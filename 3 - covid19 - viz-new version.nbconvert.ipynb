{
 "cells": [
  {
   "cell_type": "markdown",
   "metadata": {},
   "source": [
    "https://github.com/UncleGedd/COVID19-EDA/blob/master/COVID-19%20Viz.ipynb"
   ]
  },
  {
   "cell_type": "code",
   "execution_count": 1,
   "metadata": {
    "ExecuteTime": {
     "end_time": "2020-03-25T08:33:43.640475Z",
     "start_time": "2020-03-25T08:33:43.038210Z"
    }
   },
   "outputs": [],
   "source": [
    "import numpy as np\n",
    "import pandas as pd\n",
    "import matplotlib.pyplot as plt"
   ]
  },
  {
   "cell_type": "code",
   "execution_count": 2,
   "metadata": {
    "ExecuteTime": {
     "end_time": "2020-03-25T08:34:45.952230Z",
     "start_time": "2020-03-25T08:34:45.796255Z"
    }
   },
   "outputs": [],
   "source": [
    "#hide\n",
    "import requests\n",
    "import io\n",
    "import os\n",
    "\n",
    "os.environ['NO_PROXY'] = 'raw.githubusercontent.com'\n",
    "\n",
    "def load_timeseries(name, \n",
    "                    base_url='https://raw.githubusercontent.com/CSSEGISandData/COVID-19/master/csse_covid_19_data/csse_covid_19_time_series'):\n",
    "    # Thanks to kasparthommen for the suggestion to directly downloadCSSEGISandData\n",
    "    #time_series_covid19_confirmed_global.csv\n",
    "    url = f'{base_url}/time_series_covid19_{name}_global.csv'\n",
    "    print(url)\n",
    "    csv = requests.get(url).text\n",
    "    df = pd.read_csv(io.StringIO(csv))\n",
    "    return df\n",
    "\n"
   ]
  },
  {
   "cell_type": "code",
   "execution_count": 3,
   "metadata": {
    "ExecuteTime": {
     "end_time": "2020-03-25T08:35:02.403698Z",
     "start_time": "2020-03-25T08:35:02.144108Z"
    }
   },
   "outputs": [
    {
     "name": "stdout",
     "output_type": "stream",
     "text": [
      "https://raw.githubusercontent.com/CSSEGISandData/COVID-19/master/csse_covid_19_data/csse_covid_19_time_series/time_series_covid19_confirmed_global.csv\n",
      "https://raw.githubusercontent.com/CSSEGISandData/COVID-19/master/csse_covid_19_data/csse_covid_19_time_series/time_series_covid19_deaths_global.csv\n"
     ]
    },
    {
     "data": {
      "text/html": [
       "<div>\n",
       "<style scoped>\n",
       "    .dataframe tbody tr th:only-of-type {\n",
       "        vertical-align: middle;\n",
       "    }\n",
       "\n",
       "    .dataframe tbody tr th {\n",
       "        vertical-align: top;\n",
       "    }\n",
       "\n",
       "    .dataframe thead th {\n",
       "        text-align: right;\n",
       "    }\n",
       "</style>\n",
       "<table border=\"1\" class=\"dataframe\">\n",
       "  <thead>\n",
       "    <tr style=\"text-align: right;\">\n",
       "      <th></th>\n",
       "      <th>Province/State</th>\n",
       "      <th>Country/Region</th>\n",
       "      <th>Lat</th>\n",
       "      <th>Long</th>\n",
       "      <th>1/22/20</th>\n",
       "      <th>1/23/20</th>\n",
       "      <th>1/24/20</th>\n",
       "      <th>1/25/20</th>\n",
       "      <th>1/26/20</th>\n",
       "      <th>1/27/20</th>\n",
       "      <th>...</th>\n",
       "      <th>3/17/20</th>\n",
       "      <th>3/18/20</th>\n",
       "      <th>3/19/20</th>\n",
       "      <th>3/20/20</th>\n",
       "      <th>3/21/20</th>\n",
       "      <th>3/22/20</th>\n",
       "      <th>3/23/20</th>\n",
       "      <th>3/24/20</th>\n",
       "      <th>3/25/20</th>\n",
       "      <th>3/26/20</th>\n",
       "    </tr>\n",
       "  </thead>\n",
       "  <tbody>\n",
       "    <tr>\n",
       "      <th>0</th>\n",
       "      <td>NaN</td>\n",
       "      <td>Afghanistan</td>\n",
       "      <td>33.0000</td>\n",
       "      <td>65.0000</td>\n",
       "      <td>0</td>\n",
       "      <td>0</td>\n",
       "      <td>0</td>\n",
       "      <td>0</td>\n",
       "      <td>0</td>\n",
       "      <td>0</td>\n",
       "      <td>...</td>\n",
       "      <td>22</td>\n",
       "      <td>22</td>\n",
       "      <td>22</td>\n",
       "      <td>24</td>\n",
       "      <td>24</td>\n",
       "      <td>40</td>\n",
       "      <td>40</td>\n",
       "      <td>74</td>\n",
       "      <td>84</td>\n",
       "      <td>94</td>\n",
       "    </tr>\n",
       "    <tr>\n",
       "      <th>1</th>\n",
       "      <td>NaN</td>\n",
       "      <td>Albania</td>\n",
       "      <td>41.1533</td>\n",
       "      <td>20.1683</td>\n",
       "      <td>0</td>\n",
       "      <td>0</td>\n",
       "      <td>0</td>\n",
       "      <td>0</td>\n",
       "      <td>0</td>\n",
       "      <td>0</td>\n",
       "      <td>...</td>\n",
       "      <td>55</td>\n",
       "      <td>59</td>\n",
       "      <td>64</td>\n",
       "      <td>70</td>\n",
       "      <td>76</td>\n",
       "      <td>89</td>\n",
       "      <td>104</td>\n",
       "      <td>123</td>\n",
       "      <td>146</td>\n",
       "      <td>174</td>\n",
       "    </tr>\n",
       "    <tr>\n",
       "      <th>2</th>\n",
       "      <td>NaN</td>\n",
       "      <td>Algeria</td>\n",
       "      <td>28.0339</td>\n",
       "      <td>1.6596</td>\n",
       "      <td>0</td>\n",
       "      <td>0</td>\n",
       "      <td>0</td>\n",
       "      <td>0</td>\n",
       "      <td>0</td>\n",
       "      <td>0</td>\n",
       "      <td>...</td>\n",
       "      <td>60</td>\n",
       "      <td>74</td>\n",
       "      <td>87</td>\n",
       "      <td>90</td>\n",
       "      <td>139</td>\n",
       "      <td>201</td>\n",
       "      <td>230</td>\n",
       "      <td>264</td>\n",
       "      <td>302</td>\n",
       "      <td>367</td>\n",
       "    </tr>\n",
       "    <tr>\n",
       "      <th>3</th>\n",
       "      <td>NaN</td>\n",
       "      <td>Andorra</td>\n",
       "      <td>42.5063</td>\n",
       "      <td>1.5218</td>\n",
       "      <td>0</td>\n",
       "      <td>0</td>\n",
       "      <td>0</td>\n",
       "      <td>0</td>\n",
       "      <td>0</td>\n",
       "      <td>0</td>\n",
       "      <td>...</td>\n",
       "      <td>39</td>\n",
       "      <td>39</td>\n",
       "      <td>53</td>\n",
       "      <td>75</td>\n",
       "      <td>88</td>\n",
       "      <td>113</td>\n",
       "      <td>133</td>\n",
       "      <td>164</td>\n",
       "      <td>188</td>\n",
       "      <td>224</td>\n",
       "    </tr>\n",
       "    <tr>\n",
       "      <th>4</th>\n",
       "      <td>NaN</td>\n",
       "      <td>Angola</td>\n",
       "      <td>-11.2027</td>\n",
       "      <td>17.8739</td>\n",
       "      <td>0</td>\n",
       "      <td>0</td>\n",
       "      <td>0</td>\n",
       "      <td>0</td>\n",
       "      <td>0</td>\n",
       "      <td>0</td>\n",
       "      <td>...</td>\n",
       "      <td>0</td>\n",
       "      <td>0</td>\n",
       "      <td>0</td>\n",
       "      <td>1</td>\n",
       "      <td>2</td>\n",
       "      <td>2</td>\n",
       "      <td>3</td>\n",
       "      <td>3</td>\n",
       "      <td>3</td>\n",
       "      <td>4</td>\n",
       "    </tr>\n",
       "  </tbody>\n",
       "</table>\n",
       "<p>5 rows × 69 columns</p>\n",
       "</div>"
      ],
      "text/plain": [
       "  Province/State Country/Region      Lat     Long  1/22/20  1/23/20  1/24/20  \\\n",
       "0            NaN    Afghanistan  33.0000  65.0000        0        0        0   \n",
       "1            NaN        Albania  41.1533  20.1683        0        0        0   \n",
       "2            NaN        Algeria  28.0339   1.6596        0        0        0   \n",
       "3            NaN        Andorra  42.5063   1.5218        0        0        0   \n",
       "4            NaN         Angola -11.2027  17.8739        0        0        0   \n",
       "\n",
       "   1/25/20  1/26/20  1/27/20  ...  3/17/20  3/18/20  3/19/20  3/20/20  \\\n",
       "0        0        0        0  ...       22       22       22       24   \n",
       "1        0        0        0  ...       55       59       64       70   \n",
       "2        0        0        0  ...       60       74       87       90   \n",
       "3        0        0        0  ...       39       39       53       75   \n",
       "4        0        0        0  ...        0        0        0        1   \n",
       "\n",
       "   3/21/20  3/22/20  3/23/20  3/24/20  3/25/20  3/26/20  \n",
       "0       24       40       40       74       84       94  \n",
       "1       76       89      104      123      146      174  \n",
       "2      139      201      230      264      302      367  \n",
       "3       88      113      133      164      188      224  \n",
       "4        2        2        3        3        3        4  \n",
       "\n",
       "[5 rows x 69 columns]"
      ]
     },
     "execution_count": 3,
     "metadata": {},
     "output_type": "execute_result"
    }
   ],
   "source": [
    "df_confirmed = load_timeseries('confirmed')\n",
    "df_deaths = load_timeseries('deaths')\n",
    "#recovered ne somble plus dispo\n",
    "#df_recovered = load_timeseries('Recovered')\n",
    "df_confirmed.head()"
   ]
  },
  {
   "cell_type": "code",
   "execution_count": 4,
   "metadata": {
    "ExecuteTime": {
     "end_time": "2020-03-25T08:36:02.394153Z",
     "start_time": "2020-03-25T08:36:02.385166Z"
    }
   },
   "outputs": [
    {
     "data": {
      "text/plain": [
       "China             33\n",
       "Canada            15\n",
       "France            10\n",
       "Australia          8\n",
       "United Kingdom     7\n",
       "                  ..\n",
       "Pakistan           1\n",
       "Morocco            1\n",
       "Andorra            1\n",
       "Algeria            1\n",
       "Latvia             1\n",
       "Name: Country/Region, Length: 175, dtype: int64"
      ]
     },
     "execution_count": 4,
     "metadata": {},
     "output_type": "execute_result"
    }
   ],
   "source": [
    "df_confirmed['Country/Region'].value_counts()"
   ]
  },
  {
   "cell_type": "code",
   "execution_count": 5,
   "metadata": {
    "ExecuteTime": {
     "end_time": "2020-03-25T08:36:30.889169Z",
     "start_time": "2020-03-25T08:36:30.883152Z"
    }
   },
   "outputs": [
    {
     "data": {
      "text/plain": [
       "['Afghanistan', 'Albania', 'Algeria', 'Andorra', 'Angola']"
      ]
     },
     "execution_count": 5,
     "metadata": {},
     "output_type": "execute_result"
    }
   ],
   "source": [
    "sorted(df_confirmed['Country/Region'].unique())[:5]\n"
   ]
  },
  {
   "cell_type": "code",
   "execution_count": 6,
   "metadata": {
    "ExecuteTime": {
     "end_time": "2020-03-25T08:36:31.232182Z",
     "start_time": "2020-03-25T08:36:31.227167Z"
    }
   },
   "outputs": [],
   "source": [
    "euro = [\n",
    "'Austria',\n",
    "'Belarus',\n",
    "'Belgium',\n",
    "'Bosnia and Herzegovina',\n",
    "'Bulgaria',\n",
    "'Croatia',\n",
    "'Cyprus',\n",
    "'Czechia',\n",
    "'Denmark',\n",
    "'Estonia',\n",
    "'Finland',\n",
    "'France',\n",
    "'Germany',\n",
    "'Greece',\n",
    "'Hungary',\n",
    "'Ireland',\n",
    "'Italy',\n",
    "'Latvia',\n",
    "'Liechtenstein',\n",
    "'Lithuania',\n",
    "'Luxembourg',\n",
    "'Malta',\n",
    "'Monaco',\n",
    "'Moldova',\n",
    "'Netherlands',\n",
    "'North Macedonia',\n",
    "'Norway',\n",
    "'Poland',\n",
    "'Portugal',\n",
    "'Romania',\n",
    "'Serbia',\n",
    "'Slovakia',\n",
    "'Slovenia',\n",
    "'Spain',\n",
    "'Sweden',\n",
    "'Switzerland',\n",
    "'Ukraine',\n",
    "'United Kingdom'\n",
    "]"
   ]
  },
  {
   "cell_type": "code",
   "execution_count": 7,
   "metadata": {
    "ExecuteTime": {
     "end_time": "2020-03-25T08:36:37.165731Z",
     "start_time": "2020-03-25T08:36:37.160716Z"
    }
   },
   "outputs": [],
   "source": [
    "# sum daily data for a particular list of counties\n",
    "def preprocess_sum(df, countries):\n",
    "    df_country = df[df['Country/Region'].isin(countries)].drop(df.columns[0:4], axis=1)\n",
    "    df_country = df_country.apply(lambda c: np.sum(c), axis=0) # returns a series\n",
    "    dates, ts_data = list(map(lambda i: i[:-3], df_country.index)), list(df_country)\n",
    "    return dates, ts_data"
   ]
  },
  {
   "cell_type": "code",
   "execution_count": 8,
   "metadata": {
    "ExecuteTime": {
     "end_time": "2020-03-25T08:36:41.957508Z",
     "start_time": "2020-03-25T08:36:41.951528Z"
    }
   },
   "outputs": [],
   "source": [
    "# get daily counts of new events (infections, recoveries, deaths)\n",
    "def preprocess_daily_new(df, countries):\n",
    "    df_country = df[df['Country/Region'].isin(countries)].drop(df.columns[0:4], axis=1)\n",
    "    df_country = df_country.apply(lambda c: np.sum(c), axis=0).diff() # returns a series\n",
    "    dates, ts_data = list(map(lambda i: i[:-3], df_country.index[1:])), list(df_country)[1:]\n",
    "    return dates, ts_data"
   ]
  },
  {
   "cell_type": "markdown",
   "metadata": {},
   "source": [
    "# China"
   ]
  },
  {
   "cell_type": "markdown",
   "metadata": {},
   "source": [
    "Time series of infections in China"
   ]
  },
  {
   "cell_type": "code",
   "execution_count": 9,
   "metadata": {
    "ExecuteTime": {
     "end_time": "2020-03-25T08:37:05.982893Z",
     "start_time": "2020-03-25T08:37:05.958790Z"
    }
   },
   "outputs": [],
   "source": [
    "\n",
    "dates, ts_infections_china = preprocess_sum(df_confirmed, ['China'])\n",
    "_, ts_deaths_china = preprocess_sum(df_deaths, ['China'])\n",
    "#_, ts_recovered_china = preprocess_sum(df_recovered, ['China'])"
   ]
  },
  {
   "cell_type": "code",
   "execution_count": 10,
   "metadata": {
    "ExecuteTime": {
     "end_time": "2020-03-25T08:37:06.969031Z",
     "start_time": "2020-03-25T08:37:06.754654Z"
    }
   },
   "outputs": [
    {
     "data": {
      "image/png": "[encoded data removed]",
      "text/plain": [
       "<Figure size 720x360 with 1 Axes>"
      ]
     },
     "metadata": {
      "needs_background": "light"
     },
     "output_type": "display_data"
    }
   ],
   "source": [
    "plt.figure(figsize=(10,5))\n",
    "plt.plot(dates, ts_infections_china, label=\"Infections\")\n",
    "plt.plot(dates, ts_deaths_china, label=\"Deaths\")\n",
    "#plt.plot(dates, ts_recovered_china, label=\"Recovered\")\n",
    "plt.xticks(range(0, len(dates), 4))\n",
    "plt.legend()\n",
    "plt.title('COVID-19 China 2020')\n",
    "plt.show()"
   ]
  },
  {
   "cell_type": "markdown",
   "metadata": {},
   "source": [
    "New infections, deaths, recovered\n",
    "\n"
   ]
  },
  {
   "cell_type": "code",
   "execution_count": 11,
   "metadata": {
    "ExecuteTime": {
     "end_time": "2020-03-25T08:37:28.571894Z",
     "start_time": "2020-03-25T08:37:28.547830Z"
    }
   },
   "outputs": [],
   "source": [
    "dates, daily_infections_china = preprocess_daily_new(df_confirmed, ['China'])\n",
    "_, daily_deaths_china = preprocess_daily_new(df_deaths, ['China'])\n",
    "#_, daily_recovered_china = preprocess_daily_new(df_recovered, ['China'])"
   ]
  },
  {
   "cell_type": "code",
   "execution_count": 12,
   "metadata": {
    "ExecuteTime": {
     "end_time": "2020-03-25T08:37:28.931866Z",
     "start_time": "2020-03-25T08:37:28.901552Z"
    }
   },
   "outputs": [
    {
     "data": {
      "text/html": [
       "<div>\n",
       "<style scoped>\n",
       "    .dataframe tbody tr th:only-of-type {\n",
       "        vertical-align: middle;\n",
       "    }\n",
       "\n",
       "    .dataframe tbody tr th {\n",
       "        vertical-align: top;\n",
       "    }\n",
       "\n",
       "    .dataframe thead th {\n",
       "        text-align: right;\n",
       "    }\n",
       "</style>\n",
       "<table border=\"1\" class=\"dataframe\">\n",
       "  <thead>\n",
       "    <tr style=\"text-align: right;\">\n",
       "      <th></th>\n",
       "      <th>1/23</th>\n",
       "      <th>1/24</th>\n",
       "      <th>1/25</th>\n",
       "      <th>1/26</th>\n",
       "      <th>1/27</th>\n",
       "      <th>1/28</th>\n",
       "      <th>1/29</th>\n",
       "      <th>1/30</th>\n",
       "      <th>1/31</th>\n",
       "      <th>2/1</th>\n",
       "      <th>...</th>\n",
       "      <th>3/17</th>\n",
       "      <th>3/18</th>\n",
       "      <th>3/19</th>\n",
       "      <th>3/20</th>\n",
       "      <th>3/21</th>\n",
       "      <th>3/22</th>\n",
       "      <th>3/23</th>\n",
       "      <th>3/24</th>\n",
       "      <th>3/25</th>\n",
       "      <th>3/26</th>\n",
       "    </tr>\n",
       "  </thead>\n",
       "  <tbody>\n",
       "    <tr>\n",
       "      <th>Infections</th>\n",
       "      <td>95.0</td>\n",
       "      <td>277.0</td>\n",
       "      <td>486.0</td>\n",
       "      <td>669.0</td>\n",
       "      <td>802.0</td>\n",
       "      <td>2632.0</td>\n",
       "      <td>578.0</td>\n",
       "      <td>2054.0</td>\n",
       "      <td>1661.0</td>\n",
       "      <td>2089.0</td>\n",
       "      <td>...</td>\n",
       "      <td>25.0</td>\n",
       "      <td>44.0</td>\n",
       "      <td>54.0</td>\n",
       "      <td>94.0</td>\n",
       "      <td>55.0</td>\n",
       "      <td>130.0</td>\n",
       "      <td>63.0</td>\n",
       "      <td>93.0</td>\n",
       "      <td>70.0</td>\n",
       "      <td>121.0</td>\n",
       "    </tr>\n",
       "    <tr>\n",
       "      <th>Deaths</th>\n",
       "      <td>1.0</td>\n",
       "      <td>8.0</td>\n",
       "      <td>16.0</td>\n",
       "      <td>14.0</td>\n",
       "      <td>26.0</td>\n",
       "      <td>49.0</td>\n",
       "      <td>2.0</td>\n",
       "      <td>38.0</td>\n",
       "      <td>42.0</td>\n",
       "      <td>46.0</td>\n",
       "      <td>...</td>\n",
       "      <td>13.0</td>\n",
       "      <td>11.0</td>\n",
       "      <td>8.0</td>\n",
       "      <td>4.0</td>\n",
       "      <td>6.0</td>\n",
       "      <td>15.0</td>\n",
       "      <td>0.0</td>\n",
       "      <td>7.0</td>\n",
       "      <td>4.0</td>\n",
       "      <td>6.0</td>\n",
       "    </tr>\n",
       "  </tbody>\n",
       "</table>\n",
       "<p>2 rows × 64 columns</p>\n",
       "</div>"
      ],
      "text/plain": [
       "            1/23   1/24   1/25   1/26   1/27    1/28   1/29    1/30    1/31  \\\n",
       "Infections  95.0  277.0  486.0  669.0  802.0  2632.0  578.0  2054.0  1661.0   \n",
       "Deaths       1.0    8.0   16.0   14.0   26.0    49.0    2.0    38.0    42.0   \n",
       "\n",
       "               2/1  ...  3/17  3/18  3/19  3/20  3/21   3/22  3/23  3/24  \\\n",
       "Infections  2089.0  ...  25.0  44.0  54.0  94.0  55.0  130.0  63.0  93.0   \n",
       "Deaths        46.0  ...  13.0  11.0   8.0   4.0   6.0   15.0   0.0   7.0   \n",
       "\n",
       "            3/25   3/26  \n",
       "Infections  70.0  121.0  \n",
       "Deaths       4.0    6.0  \n",
       "\n",
       "[2 rows x 64 columns]"
      ]
     },
     "execution_count": 12,
     "metadata": {},
     "output_type": "execute_result"
    }
   ],
   "source": [
    "df_new_events_china =  pd.DataFrame([daily_infections_china, daily_deaths_china], \n",
    "                                    columns=dates, index=['Infections', 'Deaths'])\n",
    "df_new_events_china.head()"
   ]
  },
  {
   "cell_type": "code",
   "execution_count": 13,
   "metadata": {
    "ExecuteTime": {
     "end_time": "2020-03-25T08:37:53.969639Z",
     "start_time": "2020-03-25T08:37:53.563768Z"
    }
   },
   "outputs": [
    {
     "data": {
      "image/png": "[encoded data removed]",
      "text/plain": [
       "<Figure size 720x360 with 1 Axes>"
      ]
     },
     "metadata": {
      "needs_background": "light"
     },
     "output_type": "display_data"
    }
   ],
   "source": [
    "plt.figure(figsize=(10,5))\n",
    "plt.bar(dates, daily_infections_china, label=\"Infections\", \n",
    "        bottom=np.array(daily_deaths_china))\n",
    "plt.bar(dates, daily_deaths_china, label=\"Deaths\")\n",
    "#plt.bar(dates, daily_recovered_china, label=\"Recovered\")\n",
    "plt.xticks(range(0, len(dates), 4))\n",
    "plt.legend()\n",
    "plt.title('COVID-19 China 2020 - Daily New Events')\n",
    "plt.show()"
   ]
  },
  {
   "cell_type": "code",
   "execution_count": 14,
   "metadata": {
    "ExecuteTime": {
     "end_time": "2020-03-25T08:38:08.474948Z",
     "start_time": "2020-03-25T08:38:07.468361Z"
    }
   },
   "outputs": [
    {
     "data": {
      "image/png": "[encoded data removed]",
      "text/plain": [
       "<Figure size 720x360 with 1 Axes>"
      ]
     },
     "metadata": {
      "needs_background": "light"
     },
     "output_type": "display_data"
    }
   ],
   "source": [
    "plt.figure(figsize=(10,5))\n",
    "plt.bar(dates, daily_infections_china, label=\"Infections\", \n",
    "        bottom=np.array(daily_deaths_china), log=True)\n",
    "plt.bar(dates, daily_deaths_china, label=\"Deaths\", log=True)\n",
    "#plt.bar(dates, daily_recovered_china, label=\"Recovered\", log=True)\n",
    "plt.xticks(range(0, len(dates), 4))\n",
    "plt.legend()\n",
    "plt.title('COVID-19 China 2020 - Daily New Events (Log Scale)')\n",
    "plt.show()"
   ]
  },
  {
   "cell_type": "markdown",
   "metadata": {},
   "source": [
    "# Europe"
   ]
  },
  {
   "cell_type": "markdown",
   "metadata": {},
   "source": [
    "Time series of infections in Europe\n",
    "\n"
   ]
  },
  {
   "cell_type": "code",
   "execution_count": 15,
   "metadata": {
    "ExecuteTime": {
     "end_time": "2020-03-25T08:38:21.811616Z",
     "start_time": "2020-03-25T08:38:21.798583Z"
    }
   },
   "outputs": [],
   "source": [
    "df_euro = df_confirmed[df_confirmed['Country/Region'].isin(euro)].drop(df_confirmed.columns[0:4], axis=1)\n",
    "df_euro = df_euro.apply(lambda c: np.sum(c), axis=0) # returns a series\n",
    "ts_infections_euro = list(df_euro)"
   ]
  },
  {
   "cell_type": "code",
   "execution_count": 16,
   "metadata": {
    "ExecuteTime": {
     "end_time": "2020-03-25T08:38:30.675242Z",
     "start_time": "2020-03-25T08:38:30.653191Z"
    }
   },
   "outputs": [],
   "source": [
    "dates, ts_infections_euro = preprocess_sum(df_confirmed, euro)\n",
    "dates, ts_deaths_euro = preprocess_sum(df_deaths, euro)\n",
    "#dates, ts_recovered_euro = preprocess_sum(df_recovered, euro)"
   ]
  },
  {
   "cell_type": "code",
   "execution_count": 17,
   "metadata": {
    "ExecuteTime": {
     "end_time": "2020-03-25T08:38:32.042005Z",
     "start_time": "2020-03-25T08:38:31.860837Z"
    }
   },
   "outputs": [
    {
     "data": {
      "image/png": "[encoded data removed]",
      "text/plain": [
       "<Figure size 720x360 with 1 Axes>"
      ]
     },
     "metadata": {
      "needs_background": "light"
     },
     "output_type": "display_data"
    }
   ],
   "source": [
    "plt.figure(figsize=(10,5))\n",
    "plt.plot(dates, ts_infections_euro, label=\"Infections\")\n",
    "plt.plot(dates, ts_deaths_euro, label=\"Deaths\")\n",
    "#plt.plot(dates, ts_recovered_euro, label=\"Recovered\")\n",
    "plt.xticks(range(0, len(dates), 4))\n",
    "plt.legend()\n",
    "plt.title('COVID-19 Europe 2020')\n",
    "plt.show()"
   ]
  },
  {
   "cell_type": "markdown",
   "metadata": {},
   "source": [
    "New infections, deaths, recovered\n",
    "\n"
   ]
  },
  {
   "cell_type": "code",
   "execution_count": 18,
   "metadata": {
    "ExecuteTime": {
     "end_time": "2020-03-25T08:38:42.811139Z",
     "start_time": "2020-03-25T08:38:42.788663Z"
    }
   },
   "outputs": [],
   "source": [
    "dates, daily_infections_euro = preprocess_daily_new(df_confirmed, euro)\n",
    "_, daily_deaths_euro = preprocess_daily_new(df_deaths, euro)\n",
    "#_, daily_recovered_euro = preprocess_daily_new(df_recovered, euro)"
   ]
  },
  {
   "cell_type": "code",
   "execution_count": 19,
   "metadata": {
    "ExecuteTime": {
     "end_time": "2020-03-25T08:38:50.802577Z",
     "start_time": "2020-03-25T08:38:50.775365Z"
    }
   },
   "outputs": [
    {
     "data": {
      "text/html": [
       "<div>\n",
       "<style scoped>\n",
       "    .dataframe tbody tr th:only-of-type {\n",
       "        vertical-align: middle;\n",
       "    }\n",
       "\n",
       "    .dataframe tbody tr th {\n",
       "        vertical-align: top;\n",
       "    }\n",
       "\n",
       "    .dataframe thead th {\n",
       "        text-align: right;\n",
       "    }\n",
       "</style>\n",
       "<table border=\"1\" class=\"dataframe\">\n",
       "  <thead>\n",
       "    <tr style=\"text-align: right;\">\n",
       "      <th></th>\n",
       "      <th>1/23</th>\n",
       "      <th>1/24</th>\n",
       "      <th>1/25</th>\n",
       "      <th>1/26</th>\n",
       "      <th>1/27</th>\n",
       "      <th>1/28</th>\n",
       "      <th>1/29</th>\n",
       "      <th>1/30</th>\n",
       "      <th>1/31</th>\n",
       "      <th>2/1</th>\n",
       "      <th>...</th>\n",
       "      <th>3/17</th>\n",
       "      <th>3/18</th>\n",
       "      <th>3/19</th>\n",
       "      <th>3/20</th>\n",
       "      <th>3/21</th>\n",
       "      <th>3/22</th>\n",
       "      <th>3/23</th>\n",
       "      <th>3/24</th>\n",
       "      <th>3/25</th>\n",
       "      <th>3/26</th>\n",
       "    </tr>\n",
       "  </thead>\n",
       "  <tbody>\n",
       "    <tr>\n",
       "      <th>Infections</th>\n",
       "      <td>0.0</td>\n",
       "      <td>2.0</td>\n",
       "      <td>1.0</td>\n",
       "      <td>0.0</td>\n",
       "      <td>1.0</td>\n",
       "      <td>4.0</td>\n",
       "      <td>2.0</td>\n",
       "      <td>0.0</td>\n",
       "      <td>6.0</td>\n",
       "      <td>5.0</td>\n",
       "      <td>...</td>\n",
       "      <td>11045.0</td>\n",
       "      <td>13581.0</td>\n",
       "      <td>18249.0</td>\n",
       "      <td>20327.0</td>\n",
       "      <td>21362.0</td>\n",
       "      <td>18916.0</td>\n",
       "      <td>25357.0</td>\n",
       "      <td>23495.0</td>\n",
       "      <td>29416.0</td>\n",
       "      <td>34652.0</td>\n",
       "    </tr>\n",
       "    <tr>\n",
       "      <th>Deaths</th>\n",
       "      <td>0.0</td>\n",
       "      <td>0.0</td>\n",
       "      <td>0.0</td>\n",
       "      <td>0.0</td>\n",
       "      <td>0.0</td>\n",
       "      <td>0.0</td>\n",
       "      <td>0.0</td>\n",
       "      <td>0.0</td>\n",
       "      <td>0.0</td>\n",
       "      <td>0.0</td>\n",
       "      <td>...</td>\n",
       "      <td>586.0</td>\n",
       "      <td>616.0</td>\n",
       "      <td>863.0</td>\n",
       "      <td>1184.0</td>\n",
       "      <td>1422.0</td>\n",
       "      <td>1318.0</td>\n",
       "      <td>1523.0</td>\n",
       "      <td>1758.0</td>\n",
       "      <td>2082.0</td>\n",
       "      <td>2214.0</td>\n",
       "    </tr>\n",
       "  </tbody>\n",
       "</table>\n",
       "<p>2 rows × 64 columns</p>\n",
       "</div>"
      ],
      "text/plain": [
       "            1/23  1/24  1/25  1/26  1/27  1/28  1/29  1/30  1/31  2/1  ...  \\\n",
       "Infections   0.0   2.0   1.0   0.0   1.0   4.0   2.0   0.0   6.0  5.0  ...   \n",
       "Deaths       0.0   0.0   0.0   0.0   0.0   0.0   0.0   0.0   0.0  0.0  ...   \n",
       "\n",
       "               3/17     3/18     3/19     3/20     3/21     3/22     3/23  \\\n",
       "Infections  11045.0  13581.0  18249.0  20327.0  21362.0  18916.0  25357.0   \n",
       "Deaths        586.0    616.0    863.0   1184.0   1422.0   1318.0   1523.0   \n",
       "\n",
       "               3/24     3/25     3/26  \n",
       "Infections  23495.0  29416.0  34652.0  \n",
       "Deaths       1758.0   2082.0   2214.0  \n",
       "\n",
       "[2 rows x 64 columns]"
      ]
     },
     "execution_count": 19,
     "metadata": {},
     "output_type": "execute_result"
    }
   ],
   "source": [
    "df_new_events_euro =  pd.DataFrame([daily_infections_euro, daily_deaths_euro], \n",
    "                                    columns=dates, index=['Infections', 'Deaths'])\n",
    "df_new_events_euro.head()"
   ]
  },
  {
   "cell_type": "code",
   "execution_count": 20,
   "metadata": {
    "ExecuteTime": {
     "end_time": "2020-03-25T08:39:09.377703Z",
     "start_time": "2020-03-25T08:39:09.070335Z"
    }
   },
   "outputs": [
    {
     "data": {
      "image/png": "[encoded data removed]",
      "text/plain": [
       "<Figure size 720x360 with 1 Axes>"
      ]
     },
     "metadata": {
      "needs_background": "light"
     },
     "output_type": "display_data"
    }
   ],
   "source": [
    "plt.figure(figsize=(10,5))\n",
    "SKIP=20\n",
    "plt.bar(dates[SKIP:], daily_infections_euro[SKIP:], label=\"Infections\", \n",
    "        bottom=np.array(daily_deaths_euro[SKIP:]))\n",
    "plt.bar(dates[SKIP:], daily_deaths_euro[SKIP:], label=\"Deaths\")\n",
    "#plt.bar(dates[SKIP:], daily_recovered_euro[SKIP:], label=\"Recovered\")\n",
    "plt.xticks(range(0, len(dates[SKIP:]), 4))\n",
    "plt.legend()\n",
    "plt.title('COVID-19 Euro 2020 - Daily New Events')\n",
    "plt.show()"
   ]
  },
  {
   "cell_type": "markdown",
   "metadata": {},
   "source": [
    "# France"
   ]
  },
  {
   "cell_type": "markdown",
   "metadata": {},
   "source": [
    "Time series of infections in France"
   ]
  },
  {
   "cell_type": "code",
   "execution_count": 21,
   "metadata": {
    "ExecuteTime": {
     "end_time": "2020-03-25T08:39:21.404330Z",
     "start_time": "2020-03-25T08:39:21.382286Z"
    }
   },
   "outputs": [],
   "source": [
    "\n",
    "dates, ts_infections_france = preprocess_sum(df_confirmed, ['France'])\n",
    "_, ts_deaths_france = preprocess_sum(df_deaths, ['France'])\n",
    "#_, ts_recovered_france = preprocess_sum(df_recovered, ['France'])"
   ]
  },
  {
   "cell_type": "code",
   "execution_count": 22,
   "metadata": {
    "ExecuteTime": {
     "end_time": "2020-03-25T08:39:24.496342Z",
     "start_time": "2020-03-25T08:39:24.310335Z"
    }
   },
   "outputs": [
    {
     "data": {
      "image/png": "[encoded data removed]",
      "text/plain": [
       "<Figure size 720x360 with 1 Axes>"
      ]
     },
     "metadata": {
      "needs_background": "light"
     },
     "output_type": "display_data"
    }
   ],
   "source": [
    "plt.figure(figsize=(10,5))\n",
    "plt.plot(dates, ts_infections_france, label=\"Infections\")\n",
    "plt.plot(dates, ts_deaths_france, label=\"Deaths\")\n",
    "#plt.plot(dates, ts_recovered_france, label=\"Recovered\")\n",
    "plt.xticks(range(0, len(dates), 4))\n",
    "plt.legend()\n",
    "plt.title('COVID-19 France 2020')\n",
    "plt.show()"
   ]
  },
  {
   "cell_type": "markdown",
   "metadata": {},
   "source": [
    "New infections, deaths, recovered\n",
    "\n"
   ]
  },
  {
   "cell_type": "code",
   "execution_count": 23,
   "metadata": {
    "ExecuteTime": {
     "end_time": "2020-03-25T08:39:33.332849Z",
     "start_time": "2020-03-25T08:39:33.310791Z"
    }
   },
   "outputs": [],
   "source": [
    "dates, daily_infections_france = preprocess_daily_new(df_confirmed, ['France'])\n",
    "_, daily_deaths_france = preprocess_daily_new(df_deaths, ['France'])\n",
    "#_, daily_recovered_france = preprocess_daily_new(df_recovered, ['France'])"
   ]
  },
  {
   "cell_type": "code",
   "execution_count": 24,
   "metadata": {
    "ExecuteTime": {
     "end_time": "2020-03-25T08:39:42.714729Z",
     "start_time": "2020-03-25T08:39:42.687673Z"
    }
   },
   "outputs": [
    {
     "data": {
      "text/html": [
       "<div>\n",
       "<style scoped>\n",
       "    .dataframe tbody tr th:only-of-type {\n",
       "        vertical-align: middle;\n",
       "    }\n",
       "\n",
       "    .dataframe tbody tr th {\n",
       "        vertical-align: top;\n",
       "    }\n",
       "\n",
       "    .dataframe thead th {\n",
       "        text-align: right;\n",
       "    }\n",
       "</style>\n",
       "<table border=\"1\" class=\"dataframe\">\n",
       "  <thead>\n",
       "    <tr style=\"text-align: right;\">\n",
       "      <th></th>\n",
       "      <th>1/23</th>\n",
       "      <th>1/24</th>\n",
       "      <th>1/25</th>\n",
       "      <th>1/26</th>\n",
       "      <th>1/27</th>\n",
       "      <th>1/28</th>\n",
       "      <th>1/29</th>\n",
       "      <th>1/30</th>\n",
       "      <th>1/31</th>\n",
       "      <th>2/1</th>\n",
       "      <th>...</th>\n",
       "      <th>3/17</th>\n",
       "      <th>3/18</th>\n",
       "      <th>3/19</th>\n",
       "      <th>3/20</th>\n",
       "      <th>3/21</th>\n",
       "      <th>3/22</th>\n",
       "      <th>3/23</th>\n",
       "      <th>3/24</th>\n",
       "      <th>3/25</th>\n",
       "      <th>3/26</th>\n",
       "    </tr>\n",
       "  </thead>\n",
       "  <tbody>\n",
       "    <tr>\n",
       "      <th>Infections</th>\n",
       "      <td>0.0</td>\n",
       "      <td>2.0</td>\n",
       "      <td>1.0</td>\n",
       "      <td>0.0</td>\n",
       "      <td>0.0</td>\n",
       "      <td>1.0</td>\n",
       "      <td>1.0</td>\n",
       "      <td>0.0</td>\n",
       "      <td>0.0</td>\n",
       "      <td>1.0</td>\n",
       "      <td>...</td>\n",
       "      <td>1032.0</td>\n",
       "      <td>1409.0</td>\n",
       "      <td>1846.0</td>\n",
       "      <td>1788.0</td>\n",
       "      <td>1705.0</td>\n",
       "      <td>1780.0</td>\n",
       "      <td>3880.0</td>\n",
       "      <td>2499.0</td>\n",
       "      <td>2978.0</td>\n",
       "      <td>3951.0</td>\n",
       "    </tr>\n",
       "    <tr>\n",
       "      <th>Deaths</th>\n",
       "      <td>0.0</td>\n",
       "      <td>0.0</td>\n",
       "      <td>0.0</td>\n",
       "      <td>0.0</td>\n",
       "      <td>0.0</td>\n",
       "      <td>0.0</td>\n",
       "      <td>0.0</td>\n",
       "      <td>0.0</td>\n",
       "      <td>0.0</td>\n",
       "      <td>0.0</td>\n",
       "      <td>...</td>\n",
       "      <td>0.0</td>\n",
       "      <td>0.0</td>\n",
       "      <td>95.0</td>\n",
       "      <td>207.0</td>\n",
       "      <td>112.0</td>\n",
       "      <td>113.0</td>\n",
       "      <td>186.0</td>\n",
       "      <td>240.0</td>\n",
       "      <td>231.0</td>\n",
       "      <td>365.0</td>\n",
       "    </tr>\n",
       "  </tbody>\n",
       "</table>\n",
       "<p>2 rows × 64 columns</p>\n",
       "</div>"
      ],
      "text/plain": [
       "            1/23  1/24  1/25  1/26  1/27  1/28  1/29  1/30  1/31  2/1  ...  \\\n",
       "Infections   0.0   2.0   1.0   0.0   0.0   1.0   1.0   0.0   0.0  1.0  ...   \n",
       "Deaths       0.0   0.0   0.0   0.0   0.0   0.0   0.0   0.0   0.0  0.0  ...   \n",
       "\n",
       "              3/17    3/18    3/19    3/20    3/21    3/22    3/23    3/24  \\\n",
       "Infections  1032.0  1409.0  1846.0  1788.0  1705.0  1780.0  3880.0  2499.0   \n",
       "Deaths         0.0     0.0    95.0   207.0   112.0   113.0   186.0   240.0   \n",
       "\n",
       "              3/25    3/26  \n",
       "Infections  2978.0  3951.0  \n",
       "Deaths       231.0   365.0  \n",
       "\n",
       "[2 rows x 64 columns]"
      ]
     },
     "execution_count": 24,
     "metadata": {},
     "output_type": "execute_result"
    }
   ],
   "source": [
    "df_new_events_france =  pd.DataFrame([daily_infections_france, daily_deaths_france], \n",
    "                                    columns=dates, index=['Infections', 'Deaths'])\n",
    "df_new_events_france.head()"
   ]
  },
  {
   "cell_type": "code",
   "execution_count": 25,
   "metadata": {
    "ExecuteTime": {
     "end_time": "2020-03-25T08:39:51.133800Z",
     "start_time": "2020-03-25T08:39:51.127268Z"
    }
   },
   "outputs": [
    {
     "data": {
      "text/plain": [
       "Infections    29551.0\n",
       "Deaths         1698.0\n",
       "dtype: float64"
      ]
     },
     "execution_count": 25,
     "metadata": {},
     "output_type": "execute_result"
    }
   ],
   "source": [
    "df_new_events_france.T.sum()"
   ]
  },
  {
   "cell_type": "code",
   "execution_count": 26,
   "metadata": {
    "ExecuteTime": {
     "end_time": "2020-03-25T08:40:03.551473Z",
     "start_time": "2020-03-25T08:40:03.141915Z"
    }
   },
   "outputs": [
    {
     "data": {
      "image/png": "[encoded data removed]",
      "text/plain": [
       "<Figure size 720x360 with 1 Axes>"
      ]
     },
     "metadata": {
      "needs_background": "light"
     },
     "output_type": "display_data"
    }
   ],
   "source": [
    "plt.figure(figsize=(10,5))\n",
    "plt.bar(dates, daily_infections_france, label=\"Infections\", \n",
    "        bottom=np.array(daily_deaths_france))\n",
    "plt.bar(dates, daily_deaths_france, label=\"Deaths\")\n",
    "#plt.bar(dates, daily_recovered_france, label=\"Recovered\")\n",
    "plt.xticks(range(0, len(dates), 4))\n",
    "plt.legend()\n",
    "plt.title('COVID-19 France 2020 - Daily New Events')\n",
    "plt.show()"
   ]
  },
  {
   "cell_type": "code",
   "execution_count": 27,
   "metadata": {
    "ExecuteTime": {
     "end_time": "2020-03-25T08:40:21.532963Z",
     "start_time": "2020-03-25T08:40:20.899032Z"
    }
   },
   "outputs": [
    {
     "data": {
      "image/png": "[encoded data removed]",
      "text/plain": [
       "<Figure size 720x360 with 1 Axes>"
      ]
     },
     "metadata": {
      "needs_background": "light"
     },
     "output_type": "display_data"
    }
   ],
   "source": [
    "plt.figure(figsize=(10,5))\n",
    "plt.bar(dates, daily_infections_france, label=\"Infections\", \n",
    "        bottom=np.array(daily_deaths_france), log=True)\n",
    "plt.bar(dates, daily_deaths_france, label=\"Deaths\", log=True)\n",
    "#plt.bar(dates, daily_recovered_france, label=\"Recovered\", log=True)\n",
    "plt.xticks(range(0, len(dates), 4))\n",
    "plt.legend()\n",
    "plt.title('COVID-19 France 2020 - Daily New Events (Log Scale)')\n",
    "plt.show()"
   ]
  },
  {
   "cell_type": "markdown",
   "metadata": {},
   "source": [
    "# Plotting France vs China"
   ]
  },
  {
   "cell_type": "code",
   "execution_count": 28,
   "metadata": {
    "ExecuteTime": {
     "end_time": "2020-03-25T08:40:31.890192Z",
     "start_time": "2020-03-25T08:40:31.660093Z"
    }
   },
   "outputs": [
    {
     "data": {
      "image/png": "[encoded data removed]",
      "text/plain": [
       "<Figure size 720x360 with 1 Axes>"
      ]
     },
     "metadata": {
      "needs_background": "light"
     },
     "output_type": "display_data"
    }
   ],
   "source": [
    "dates,_ = preprocess_sum(df_confirmed, ['France']) # ensure proper date range\n",
    "\n",
    "plt.figure(figsize=(10,5))\n",
    "plt.plot(dates, ts_infections_france, label=\"France Infections\")\n",
    "plt.plot(dates, ts_deaths_france, label=\"France Deaths\")\n",
    "\n",
    "plt.plot(dates, ts_infections_china, label=\"China Infections\")\n",
    "plt.plot(dates, ts_deaths_china, label=\"China Deaths\")\n",
    "plt.xticks(range(0, len(dates), 4))\n",
    "\n",
    "plt.legend()\n",
    "plt.title('COVID-19 Infections and Deaths in France and China 2020')\n",
    "plt.show()"
   ]
  },
  {
   "cell_type": "markdown",
   "metadata": {},
   "source": [
    "Closer look at death rates"
   ]
  },
  {
   "cell_type": "code",
   "execution_count": 29,
   "metadata": {
    "ExecuteTime": {
     "end_time": "2020-03-25T08:40:36.398530Z",
     "start_time": "2020-03-25T08:40:36.207184Z"
    }
   },
   "outputs": [
    {
     "data": {
      "image/png": "[encoded data removed]",
      "text/plain": [
       "<Figure size 720x360 with 1 Axes>"
      ]
     },
     "metadata": {
      "needs_background": "light"
     },
     "output_type": "display_data"
    }
   ],
   "source": [
    "\n",
    "plt.figure(figsize=(10,5))\n",
    "plt.plot(dates, ts_deaths_france, label=\"France Deaths\")\n",
    "plt.plot(dates, ts_deaths_china, label=\"China Deaths\")\n",
    "plt.xticks(range(0, len(dates), 4))\n",
    "plt.legend()\n",
    "plt.title('COVID-19 Deaths in France and China 2020')\n",
    "plt.show()"
   ]
  },
  {
   "cell_type": "code",
   "execution_count": null,
   "metadata": {},
   "outputs": [],
   "source": []
  }
 ],
 "metadata": {
  "kernelspec": {
   "display_name": "Python 3",
   "language": "python",
   "name": "python3"
  },
  "language_info": {
   "codemirror_mode": {
    "name": "ipython",
    "version": 3
   },
   "file_extension": ".py",
   "mimetype": "text/x-python",
   "name": "python",
   "nbconvert_exporter": "python",
   "pygments_lexer": "ipython3",
   "version": "3.8.2"
  },
  "toc": {
   "base_numbering": 1,
   "nav_menu": {},
   "number_sections": true,
   "sideBar": true,
   "skip_h1_title": false,
   "title_cell": "Table of Contents",
   "title_sidebar": "Contents",
   "toc_cell": false,
   "toc_position": {},
   "toc_section_display": true,
   "toc_window_display": false
  },
  "varInspector": {
   "cols": {
    "lenName": 16,
    "lenType": 16,
    "lenVar": 40
   },
   "kernels_config": {
    "python": {
     "delete_cmd_postfix": "",
     "delete_cmd_prefix": "del ",
     "library": "var_list.py",
     "varRefreshCmd": "print(var_dic_list())"
    },
    "r": {
     "delete_cmd_postfix": ") ",
     "delete_cmd_prefix": "rm(",
     "library": "var_list.r",
     "varRefreshCmd": "cat(var_dic_list()) "
    }
   },
   "types_to_exclude": [
    "module",
    "function",
    "builtin_function_or_method",
    "instance",
    "_Feature"
   ],
   "window_display": false
  }
 },
 "nbformat": 4,
 "nbformat_minor": 4
}
