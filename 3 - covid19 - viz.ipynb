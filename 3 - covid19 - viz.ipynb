{
 "cells": [
  {
   "cell_type": "markdown",
   "metadata": {},
   "source": [
    "https://github.com/UncleGedd/COVID19-EDA/blob/master/COVID-19%20Viz.ipynb"
   ]
  },
  {
   "cell_type": "code",
   "execution_count": 1,
   "metadata": {
    "ExecuteTime": {
     "end_time": "2020-03-17T10:33:27.249583Z",
     "start_time": "2020-03-17T10:33:26.767521Z"
    }
   },
   "outputs": [],
   "source": [
    "import numpy as np\n",
    "import pandas as pd\n",
    "import matplotlib.pyplot as plt"
   ]
  },
  {
   "cell_type": "code",
   "execution_count": 2,
   "metadata": {
    "ExecuteTime": {
     "end_time": "2020-03-17T10:33:27.366261Z",
     "start_time": "2020-03-17T10:33:27.251189Z"
    }
   },
   "outputs": [],
   "source": [
    "#hide\n",
    "import requests\n",
    "import io\n",
    "import os\n",
    "\n",
    "os.environ['NO_PROXY'] = 'raw.githubusercontent.com'\n",
    "\n",
    "def load_timeseries(name, \n",
    "                    base_url='https://raw.githubusercontent.com/CSSEGISandData/COVID-19/master/csse_covid_19_data/csse_covid_19_time_series'):\n",
    "    # Thanks to kasparthommen for the suggestion to directly downloadCSSEGISandData\n",
    "    url = f'{base_url}/time_series_19-covid-{name}.csv'\n",
    "    print(url)\n",
    "    csv = requests.get(url).text\n",
    "    df = pd.read_csv(io.StringIO(csv))\n",
    "    return df\n",
    "\n"
   ]
  },
  {
   "cell_type": "code",
   "execution_count": 3,
   "metadata": {
    "ExecuteTime": {
     "end_time": "2020-03-17T10:33:27.877831Z",
     "start_time": "2020-03-17T10:33:27.368053Z"
    }
   },
   "outputs": [
    {
     "name": "stdout",
     "output_type": "stream",
     "text": [
      "https://raw.githubusercontent.com/CSSEGISandData/COVID-19/master/csse_covid_19_data/csse_covid_19_time_series/time_series_19-covid-Confirmed.csv\n",
      "https://raw.githubusercontent.com/CSSEGISandData/COVID-19/master/csse_covid_19_data/csse_covid_19_time_series/time_series_19-covid-Deaths.csv\n",
      "https://raw.githubusercontent.com/CSSEGISandData/COVID-19/master/csse_covid_19_data/csse_covid_19_time_series/time_series_19-covid-Recovered.csv\n"
     ]
    },
    {
     "data": {
      "text/html": [
       "<div>\n",
       "<style scoped>\n",
       "    .dataframe tbody tr th:only-of-type {\n",
       "        vertical-align: middle;\n",
       "    }\n",
       "\n",
       "    .dataframe tbody tr th {\n",
       "        vertical-align: top;\n",
       "    }\n",
       "\n",
       "    .dataframe thead th {\n",
       "        text-align: right;\n",
       "    }\n",
       "</style>\n",
       "<table border=\"1\" class=\"dataframe\">\n",
       "  <thead>\n",
       "    <tr style=\"text-align: right;\">\n",
       "      <th></th>\n",
       "      <th>Province/State</th>\n",
       "      <th>Country/Region</th>\n",
       "      <th>Lat</th>\n",
       "      <th>Long</th>\n",
       "      <th>1/22/20</th>\n",
       "      <th>1/23/20</th>\n",
       "      <th>1/24/20</th>\n",
       "      <th>1/25/20</th>\n",
       "      <th>1/26/20</th>\n",
       "      <th>1/27/20</th>\n",
       "      <th>...</th>\n",
       "      <th>3/7/20</th>\n",
       "      <th>3/8/20</th>\n",
       "      <th>3/9/20</th>\n",
       "      <th>3/10/20</th>\n",
       "      <th>3/11/20</th>\n",
       "      <th>3/12/20</th>\n",
       "      <th>3/13/20</th>\n",
       "      <th>3/14/20</th>\n",
       "      <th>3/15/20</th>\n",
       "      <th>3/16/20</th>\n",
       "    </tr>\n",
       "  </thead>\n",
       "  <tbody>\n",
       "    <tr>\n",
       "      <th>0</th>\n",
       "      <td>NaN</td>\n",
       "      <td>Thailand</td>\n",
       "      <td>15.0000</td>\n",
       "      <td>101.0000</td>\n",
       "      <td>2</td>\n",
       "      <td>3</td>\n",
       "      <td>5</td>\n",
       "      <td>7</td>\n",
       "      <td>8</td>\n",
       "      <td>8</td>\n",
       "      <td>...</td>\n",
       "      <td>50</td>\n",
       "      <td>50</td>\n",
       "      <td>50</td>\n",
       "      <td>53</td>\n",
       "      <td>59</td>\n",
       "      <td>70</td>\n",
       "      <td>75</td>\n",
       "      <td>82</td>\n",
       "      <td>114</td>\n",
       "      <td>147</td>\n",
       "    </tr>\n",
       "    <tr>\n",
       "      <th>1</th>\n",
       "      <td>NaN</td>\n",
       "      <td>Japan</td>\n",
       "      <td>36.0000</td>\n",
       "      <td>138.0000</td>\n",
       "      <td>2</td>\n",
       "      <td>1</td>\n",
       "      <td>2</td>\n",
       "      <td>2</td>\n",
       "      <td>4</td>\n",
       "      <td>4</td>\n",
       "      <td>...</td>\n",
       "      <td>461</td>\n",
       "      <td>502</td>\n",
       "      <td>511</td>\n",
       "      <td>581</td>\n",
       "      <td>639</td>\n",
       "      <td>639</td>\n",
       "      <td>701</td>\n",
       "      <td>773</td>\n",
       "      <td>839</td>\n",
       "      <td>825</td>\n",
       "    </tr>\n",
       "    <tr>\n",
       "      <th>2</th>\n",
       "      <td>NaN</td>\n",
       "      <td>Singapore</td>\n",
       "      <td>1.2833</td>\n",
       "      <td>103.8333</td>\n",
       "      <td>0</td>\n",
       "      <td>1</td>\n",
       "      <td>3</td>\n",
       "      <td>3</td>\n",
       "      <td>4</td>\n",
       "      <td>5</td>\n",
       "      <td>...</td>\n",
       "      <td>138</td>\n",
       "      <td>150</td>\n",
       "      <td>150</td>\n",
       "      <td>160</td>\n",
       "      <td>178</td>\n",
       "      <td>178</td>\n",
       "      <td>200</td>\n",
       "      <td>212</td>\n",
       "      <td>226</td>\n",
       "      <td>243</td>\n",
       "    </tr>\n",
       "    <tr>\n",
       "      <th>3</th>\n",
       "      <td>NaN</td>\n",
       "      <td>Nepal</td>\n",
       "      <td>28.1667</td>\n",
       "      <td>84.2500</td>\n",
       "      <td>0</td>\n",
       "      <td>0</td>\n",
       "      <td>0</td>\n",
       "      <td>1</td>\n",
       "      <td>1</td>\n",
       "      <td>1</td>\n",
       "      <td>...</td>\n",
       "      <td>1</td>\n",
       "      <td>1</td>\n",
       "      <td>1</td>\n",
       "      <td>1</td>\n",
       "      <td>1</td>\n",
       "      <td>1</td>\n",
       "      <td>1</td>\n",
       "      <td>1</td>\n",
       "      <td>1</td>\n",
       "      <td>1</td>\n",
       "    </tr>\n",
       "    <tr>\n",
       "      <th>4</th>\n",
       "      <td>NaN</td>\n",
       "      <td>Malaysia</td>\n",
       "      <td>2.5000</td>\n",
       "      <td>112.5000</td>\n",
       "      <td>0</td>\n",
       "      <td>0</td>\n",
       "      <td>0</td>\n",
       "      <td>3</td>\n",
       "      <td>4</td>\n",
       "      <td>4</td>\n",
       "      <td>...</td>\n",
       "      <td>93</td>\n",
       "      <td>99</td>\n",
       "      <td>117</td>\n",
       "      <td>129</td>\n",
       "      <td>149</td>\n",
       "      <td>149</td>\n",
       "      <td>197</td>\n",
       "      <td>238</td>\n",
       "      <td>428</td>\n",
       "      <td>566</td>\n",
       "    </tr>\n",
       "  </tbody>\n",
       "</table>\n",
       "<p>5 rows × 59 columns</p>\n",
       "</div>"
      ],
      "text/plain": [
       "  Province/State Country/Region      Lat      Long  1/22/20  1/23/20  1/24/20  \\\n",
       "0            NaN       Thailand  15.0000  101.0000        2        3        5   \n",
       "1            NaN          Japan  36.0000  138.0000        2        1        2   \n",
       "2            NaN      Singapore   1.2833  103.8333        0        1        3   \n",
       "3            NaN          Nepal  28.1667   84.2500        0        0        0   \n",
       "4            NaN       Malaysia   2.5000  112.5000        0        0        0   \n",
       "\n",
       "   1/25/20  1/26/20  1/27/20  ...  3/7/20  3/8/20  3/9/20  3/10/20  3/11/20  \\\n",
       "0        7        8        8  ...      50      50      50       53       59   \n",
       "1        2        4        4  ...     461     502     511      581      639   \n",
       "2        3        4        5  ...     138     150     150      160      178   \n",
       "3        1        1        1  ...       1       1       1        1        1   \n",
       "4        3        4        4  ...      93      99     117      129      149   \n",
       "\n",
       "   3/12/20  3/13/20  3/14/20  3/15/20  3/16/20  \n",
       "0       70       75       82      114      147  \n",
       "1      639      701      773      839      825  \n",
       "2      178      200      212      226      243  \n",
       "3        1        1        1        1        1  \n",
       "4      149      197      238      428      566  \n",
       "\n",
       "[5 rows x 59 columns]"
      ]
     },
     "execution_count": 3,
     "metadata": {},
     "output_type": "execute_result"
    }
   ],
   "source": [
    "df_confirmed = load_timeseries('Confirmed')\n",
    "df_deaths = load_timeseries('Deaths')\n",
    "df_recovered = load_timeseries('Recovered')\n",
    "df_confirmed.head()"
   ]
  },
  {
   "cell_type": "code",
   "execution_count": 4,
   "metadata": {
    "ExecuteTime": {
     "end_time": "2020-03-17T10:33:27.885004Z",
     "start_time": "2020-03-17T10:33:27.880166Z"
    }
   },
   "outputs": [
    {
     "data": {
      "text/plain": [
       "['Afghanistan', 'Albania', 'Algeria', 'Andorra', 'Antigua and Barbuda']"
      ]
     },
     "execution_count": 4,
     "metadata": {},
     "output_type": "execute_result"
    }
   ],
   "source": [
    "sorted(df_confirmed['Country/Region'].unique())[:5]\n"
   ]
  },
  {
   "cell_type": "code",
   "execution_count": 5,
   "metadata": {
    "ExecuteTime": {
     "end_time": "2020-03-17T10:33:27.904776Z",
     "start_time": "2020-03-17T10:33:27.886470Z"
    }
   },
   "outputs": [],
   "source": [
    "euro = [\n",
    "'Austria',\n",
    "'Belarus',\n",
    "'Belgium',\n",
    "'Bosnia and Herzegovina',\n",
    "'Bulgaria',\n",
    "'Croatia',\n",
    "'Cyprus',\n",
    "'Czechia',\n",
    "'Denmark',\n",
    "'Estonia',\n",
    "'Finland',\n",
    "'France',\n",
    "'Germany',\n",
    "'Greece',\n",
    "'Hungary',\n",
    "'Ireland',\n",
    "'Italy',\n",
    "'Latvia',\n",
    "'Liechtenstein',\n",
    "'Lithuania',\n",
    "'Luxembourg',\n",
    "'Malta',\n",
    "'Monaco',\n",
    "'Moldova',\n",
    "'Netherlands',\n",
    "'North Macedonia',\n",
    "'Norway',\n",
    "'Poland',\n",
    "'Portugal',\n",
    "'Romania',\n",
    "'Serbia',\n",
    "'Slovakia',\n",
    "'Slovenia',\n",
    "'Spain',\n",
    "'Sweden',\n",
    "'Switzerland',\n",
    "'Ukraine',\n",
    "'United Kingdom'\n",
    "]"
   ]
  },
  {
   "cell_type": "code",
   "execution_count": 6,
   "metadata": {
    "ExecuteTime": {
     "end_time": "2020-03-17T10:33:27.921452Z",
     "start_time": "2020-03-17T10:33:27.907133Z"
    }
   },
   "outputs": [],
   "source": [
    "# sum daily data for a particular list of counties\n",
    "def preprocess_sum(df, countries):\n",
    "    df_country = df[df['Country/Region'].isin(countries)].drop(df.columns[0:4], axis=1)\n",
    "    df_country = df_country.apply(lambda c: np.sum(c), axis=0) # returns a series\n",
    "    dates, ts_data = list(map(lambda i: i[:-3], df_country.index)), list(df_country)\n",
    "    return dates, ts_data"
   ]
  },
  {
   "cell_type": "code",
   "execution_count": 7,
   "metadata": {
    "ExecuteTime": {
     "end_time": "2020-03-17T10:33:27.950213Z",
     "start_time": "2020-03-17T10:33:27.923539Z"
    }
   },
   "outputs": [],
   "source": [
    "# get daily counts of new events (infections, recoveries, deaths)\n",
    "def preprocess_daily_new(df, countries):\n",
    "    df_country = df[df['Country/Region'].isin(countries)].drop(df.columns[0:4], axis=1)\n",
    "    df_country = df_country.apply(lambda c: np.sum(c), axis=0).diff() # returns a series\n",
    "    dates, ts_data = list(map(lambda i: i[:-3], df_country.index[1:])), list(df_country)[1:]\n",
    "    return dates, ts_data"
   ]
  },
  {
   "cell_type": "markdown",
   "metadata": {},
   "source": [
    "# China"
   ]
  },
  {
   "cell_type": "markdown",
   "metadata": {},
   "source": [
    "Time series of infections in China"
   ]
  },
  {
   "cell_type": "code",
   "execution_count": 8,
   "metadata": {
    "ExecuteTime": {
     "end_time": "2020-03-17T10:33:27.985821Z",
     "start_time": "2020-03-17T10:33:27.953746Z"
    }
   },
   "outputs": [],
   "source": [
    "\n",
    "dates, ts_infections_china = preprocess_sum(df_confirmed, ['China'])\n",
    "_, ts_deaths_china = preprocess_sum(df_deaths, ['China'])\n",
    "_, ts_recovered_china = preprocess_sum(df_recovered, ['China'])"
   ]
  },
  {
   "cell_type": "code",
   "execution_count": 9,
   "metadata": {
    "ExecuteTime": {
     "end_time": "2020-03-17T10:33:28.169867Z",
     "start_time": "2020-03-17T10:33:27.988416Z"
    }
   },
   "outputs": [
    {
     "data": {
      "image/png": "[encoded data removed]",
      "text/plain": [
       "<Figure size 720x360 with 1 Axes>"
      ]
     },
     "metadata": {
      "needs_background": "light"
     },
     "output_type": "display_data"
    }
   ],
   "source": [
    "plt.figure(figsize=(10,5))\n",
    "plt.plot(dates, ts_infections_china, label=\"Infections\")\n",
    "plt.plot(dates, ts_deaths_china, label=\"Deaths\")\n",
    "plt.plot(dates, ts_recovered_china, label=\"Recovered\")\n",
    "plt.xticks(range(0, len(dates), 4))\n",
    "plt.legend()\n",
    "plt.title('COVID-19 China 2020')\n",
    "plt.show()"
   ]
  },
  {
   "cell_type": "markdown",
   "metadata": {},
   "source": [
    "New infections, deaths, recovered\n",
    "\n"
   ]
  },
  {
   "cell_type": "code",
   "execution_count": 10,
   "metadata": {
    "ExecuteTime": {
     "end_time": "2020-03-17T10:33:28.194257Z",
     "start_time": "2020-03-17T10:33:28.171570Z"
    }
   },
   "outputs": [],
   "source": [
    "dates, daily_infections_china = preprocess_daily_new(df_confirmed, ['China'])\n",
    "_, daily_deaths_china = preprocess_daily_new(df_deaths, ['China'])\n",
    "_, daily_recovered_china = preprocess_daily_new(df_recovered, ['China'])"
   ]
  },
  {
   "cell_type": "code",
   "execution_count": 11,
   "metadata": {
    "ExecuteTime": {
     "end_time": "2020-03-17T10:33:28.234020Z",
     "start_time": "2020-03-17T10:33:28.195809Z"
    }
   },
   "outputs": [
    {
     "data": {
      "text/html": [
       "<div>\n",
       "<style scoped>\n",
       "    .dataframe tbody tr th:only-of-type {\n",
       "        vertical-align: middle;\n",
       "    }\n",
       "\n",
       "    .dataframe tbody tr th {\n",
       "        vertical-align: top;\n",
       "    }\n",
       "\n",
       "    .dataframe thead th {\n",
       "        text-align: right;\n",
       "    }\n",
       "</style>\n",
       "<table border=\"1\" class=\"dataframe\">\n",
       "  <thead>\n",
       "    <tr style=\"text-align: right;\">\n",
       "      <th></th>\n",
       "      <th>1/23</th>\n",
       "      <th>1/24</th>\n",
       "      <th>1/25</th>\n",
       "      <th>1/26</th>\n",
       "      <th>1/27</th>\n",
       "      <th>1/28</th>\n",
       "      <th>1/29</th>\n",
       "      <th>1/30</th>\n",
       "      <th>1/31</th>\n",
       "      <th>2/1</th>\n",
       "      <th>...</th>\n",
       "      <th>3/7</th>\n",
       "      <th>3/8</th>\n",
       "      <th>3/9</th>\n",
       "      <th>3/10</th>\n",
       "      <th>3/11</th>\n",
       "      <th>3/12</th>\n",
       "      <th>3/13</th>\n",
       "      <th>3/14</th>\n",
       "      <th>3/15</th>\n",
       "      <th>3/16</th>\n",
       "    </tr>\n",
       "  </thead>\n",
       "  <tbody>\n",
       "    <tr>\n",
       "      <th>Infections</th>\n",
       "      <td>95.0</td>\n",
       "      <td>277.0</td>\n",
       "      <td>486.0</td>\n",
       "      <td>669.0</td>\n",
       "      <td>802.0</td>\n",
       "      <td>2632.0</td>\n",
       "      <td>578.0</td>\n",
       "      <td>2054.0</td>\n",
       "      <td>1661.0</td>\n",
       "      <td>2089.0</td>\n",
       "      <td>...</td>\n",
       "      <td>80.0</td>\n",
       "      <td>53.0</td>\n",
       "      <td>37.0</td>\n",
       "      <td>27.0</td>\n",
       "      <td>34.0</td>\n",
       "      <td>11.0</td>\n",
       "      <td>13.0</td>\n",
       "      <td>32.0</td>\n",
       "      <td>26.0</td>\n",
       "      <td>30.0</td>\n",
       "    </tr>\n",
       "    <tr>\n",
       "      <th>Deaths</th>\n",
       "      <td>1.0</td>\n",
       "      <td>8.0</td>\n",
       "      <td>16.0</td>\n",
       "      <td>14.0</td>\n",
       "      <td>26.0</td>\n",
       "      <td>49.0</td>\n",
       "      <td>2.0</td>\n",
       "      <td>38.0</td>\n",
       "      <td>42.0</td>\n",
       "      <td>46.0</td>\n",
       "      <td>...</td>\n",
       "      <td>28.0</td>\n",
       "      <td>28.0</td>\n",
       "      <td>23.0</td>\n",
       "      <td>16.0</td>\n",
       "      <td>22.0</td>\n",
       "      <td>11.0</td>\n",
       "      <td>8.0</td>\n",
       "      <td>13.0</td>\n",
       "      <td>10.0</td>\n",
       "      <td>14.0</td>\n",
       "    </tr>\n",
       "    <tr>\n",
       "      <th>Recovered</th>\n",
       "      <td>2.0</td>\n",
       "      <td>6.0</td>\n",
       "      <td>3.0</td>\n",
       "      <td>10.0</td>\n",
       "      <td>9.0</td>\n",
       "      <td>43.0</td>\n",
       "      <td>19.0</td>\n",
       "      <td>15.0</td>\n",
       "      <td>79.0</td>\n",
       "      <td>61.0</td>\n",
       "      <td>...</td>\n",
       "      <td>1595.0</td>\n",
       "      <td>1849.0</td>\n",
       "      <td>1416.0</td>\n",
       "      <td>1377.0</td>\n",
       "      <td>1463.0</td>\n",
       "      <td>1257.0</td>\n",
       "      <td>1295.0</td>\n",
       "      <td>1464.0</td>\n",
       "      <td>1357.0</td>\n",
       "      <td>893.0</td>\n",
       "    </tr>\n",
       "  </tbody>\n",
       "</table>\n",
       "<p>3 rows × 54 columns</p>\n",
       "</div>"
      ],
      "text/plain": [
       "            1/23   1/24   1/25   1/26   1/27    1/28   1/29    1/30    1/31  \\\n",
       "Infections  95.0  277.0  486.0  669.0  802.0  2632.0  578.0  2054.0  1661.0   \n",
       "Deaths       1.0    8.0   16.0   14.0   26.0    49.0    2.0    38.0    42.0   \n",
       "Recovered    2.0    6.0    3.0   10.0    9.0    43.0   19.0    15.0    79.0   \n",
       "\n",
       "               2/1  ...     3/7     3/8     3/9    3/10    3/11    3/12  \\\n",
       "Infections  2089.0  ...    80.0    53.0    37.0    27.0    34.0    11.0   \n",
       "Deaths        46.0  ...    28.0    28.0    23.0    16.0    22.0    11.0   \n",
       "Recovered     61.0  ...  1595.0  1849.0  1416.0  1377.0  1463.0  1257.0   \n",
       "\n",
       "              3/13    3/14    3/15   3/16  \n",
       "Infections    13.0    32.0    26.0   30.0  \n",
       "Deaths         8.0    13.0    10.0   14.0  \n",
       "Recovered   1295.0  1464.0  1357.0  893.0  \n",
       "\n",
       "[3 rows x 54 columns]"
      ]
     },
     "execution_count": 11,
     "metadata": {},
     "output_type": "execute_result"
    }
   ],
   "source": [
    "df_new_events_china =  pd.DataFrame([daily_infections_china, daily_deaths_china, daily_recovered_china], \n",
    "                                    columns=dates, index=['Infections', 'Deaths', 'Recovered'])\n",
    "df_new_events_china.head()"
   ]
  },
  {
   "cell_type": "code",
   "execution_count": 12,
   "metadata": {
    "ExecuteTime": {
     "end_time": "2020-03-17T10:33:28.648739Z",
     "start_time": "2020-03-17T10:33:28.236296Z"
    }
   },
   "outputs": [
    {
     "data": {
      "image/png": "[encoded data removed]",
      "text/plain": [
       "<Figure size 720x360 with 1 Axes>"
      ]
     },
     "metadata": {
      "needs_background": "light"
     },
     "output_type": "display_data"
    }
   ],
   "source": [
    "plt.figure(figsize=(10,5))\n",
    "plt.bar(dates, daily_infections_china, label=\"Infections\", \n",
    "        bottom=np.array(daily_deaths_china+np.array(daily_recovered_china)))\n",
    "plt.bar(dates, daily_deaths_china, label=\"Deaths\", bottom=daily_recovered_china)\n",
    "plt.bar(dates, daily_recovered_china, label=\"Recovered\")\n",
    "plt.xticks(range(0, len(dates), 4))\n",
    "plt.legend()\n",
    "plt.title('COVID-19 China 2020 - Daily New Events')\n",
    "plt.show()"
   ]
  },
  {
   "cell_type": "code",
   "execution_count": 13,
   "metadata": {
    "ExecuteTime": {
     "end_time": "2020-03-17T10:33:29.387256Z",
     "start_time": "2020-03-17T10:33:28.650816Z"
    }
   },
   "outputs": [
    {
     "data": {
      "image/png": "[encoded data removed]",
      "text/plain": [
       "<Figure size 720x360 with 1 Axes>"
      ]
     },
     "metadata": {
      "needs_background": "light"
     },
     "output_type": "display_data"
    }
   ],
   "source": [
    "plt.figure(figsize=(10,5))\n",
    "plt.bar(dates, daily_infections_china, label=\"Infections\", \n",
    "        bottom=np.array(daily_deaths_china+np.array(daily_recovered_china)), log=True)\n",
    "plt.bar(dates, daily_deaths_china, label=\"Deaths\", bottom=daily_recovered_china, log=True)\n",
    "plt.bar(dates, daily_recovered_china, label=\"Recovered\", log=True)\n",
    "plt.xticks(range(0, len(dates), 4))\n",
    "plt.legend()\n",
    "plt.title('COVID-19 China 2020 - Daily New Events (Log Scale)')\n",
    "plt.show()"
   ]
  },
  {
   "cell_type": "markdown",
   "metadata": {},
   "source": [
    "# Europe"
   ]
  },
  {
   "cell_type": "markdown",
   "metadata": {},
   "source": [
    "Time series of infections in Europe\n",
    "\n"
   ]
  },
  {
   "cell_type": "code",
   "execution_count": 14,
   "metadata": {
    "ExecuteTime": {
     "end_time": "2020-03-17T10:33:29.401351Z",
     "start_time": "2020-03-17T10:33:29.389514Z"
    }
   },
   "outputs": [],
   "source": [
    "df_euro = df_confirmed[df_confirmed['Country/Region'].isin(euro)].drop(df_confirmed.columns[0:4], axis=1)\n",
    "df_euro = df_euro.apply(lambda c: np.sum(c), axis=0) # returns a series\n",
    "ts_infections_euro = list(df_euro)"
   ]
  },
  {
   "cell_type": "code",
   "execution_count": 15,
   "metadata": {
    "ExecuteTime": {
     "end_time": "2020-03-17T10:33:29.439876Z",
     "start_time": "2020-03-17T10:33:29.403549Z"
    }
   },
   "outputs": [],
   "source": [
    "dates, ts_infections_euro = preprocess_sum(df_confirmed, euro)\n",
    "dates, ts_deaths_euro = preprocess_sum(df_deaths, euro)\n",
    "dates, ts_recovered_euro = preprocess_sum(df_recovered, euro)"
   ]
  },
  {
   "cell_type": "code",
   "execution_count": 16,
   "metadata": {
    "ExecuteTime": {
     "end_time": "2020-03-17T10:33:29.614280Z",
     "start_time": "2020-03-17T10:33:29.441896Z"
    }
   },
   "outputs": [
    {
     "data": {
      "image/png": "[encoded data removed]",
      "text/plain": [
       "<Figure size 720x360 with 1 Axes>"
      ]
     },
     "metadata": {
      "needs_background": "light"
     },
     "output_type": "display_data"
    }
   ],
   "source": [
    "plt.figure(figsize=(10,5))\n",
    "plt.plot(dates, ts_infections_euro, label=\"Infections\")\n",
    "plt.plot(dates, ts_deaths_euro, label=\"Deaths\")\n",
    "plt.plot(dates, ts_recovered_euro, label=\"Recovered\")\n",
    "plt.xticks(range(0, len(dates), 4))\n",
    "plt.legend()\n",
    "plt.title('COVID-19 Europe 2020')\n",
    "plt.show()"
   ]
  },
  {
   "cell_type": "markdown",
   "metadata": {},
   "source": [
    "New infections, deaths, recovered\n",
    "\n"
   ]
  },
  {
   "cell_type": "code",
   "execution_count": 17,
   "metadata": {
    "ExecuteTime": {
     "end_time": "2020-03-17T10:33:29.639337Z",
     "start_time": "2020-03-17T10:33:29.616158Z"
    }
   },
   "outputs": [],
   "source": [
    "dates, daily_infections_euro = preprocess_daily_new(df_confirmed, euro)\n",
    "_, daily_deaths_euro = preprocess_daily_new(df_deaths, euro)\n",
    "_, daily_recovered_euro = preprocess_daily_new(df_recovered, euro)"
   ]
  },
  {
   "cell_type": "code",
   "execution_count": 18,
   "metadata": {
    "ExecuteTime": {
     "end_time": "2020-03-17T10:33:29.677217Z",
     "start_time": "2020-03-17T10:33:29.641164Z"
    }
   },
   "outputs": [
    {
     "data": {
      "text/html": [
       "<div>\n",
       "<style scoped>\n",
       "    .dataframe tbody tr th:only-of-type {\n",
       "        vertical-align: middle;\n",
       "    }\n",
       "\n",
       "    .dataframe tbody tr th {\n",
       "        vertical-align: top;\n",
       "    }\n",
       "\n",
       "    .dataframe thead th {\n",
       "        text-align: right;\n",
       "    }\n",
       "</style>\n",
       "<table border=\"1\" class=\"dataframe\">\n",
       "  <thead>\n",
       "    <tr style=\"text-align: right;\">\n",
       "      <th></th>\n",
       "      <th>1/23</th>\n",
       "      <th>1/24</th>\n",
       "      <th>1/25</th>\n",
       "      <th>1/26</th>\n",
       "      <th>1/27</th>\n",
       "      <th>1/28</th>\n",
       "      <th>1/29</th>\n",
       "      <th>1/30</th>\n",
       "      <th>1/31</th>\n",
       "      <th>2/1</th>\n",
       "      <th>...</th>\n",
       "      <th>3/7</th>\n",
       "      <th>3/8</th>\n",
       "      <th>3/9</th>\n",
       "      <th>3/10</th>\n",
       "      <th>3/11</th>\n",
       "      <th>3/12</th>\n",
       "      <th>3/13</th>\n",
       "      <th>3/14</th>\n",
       "      <th>3/15</th>\n",
       "      <th>3/16</th>\n",
       "    </tr>\n",
       "  </thead>\n",
       "  <tbody>\n",
       "    <tr>\n",
       "      <th>Infections</th>\n",
       "      <td>0.0</td>\n",
       "      <td>2.0</td>\n",
       "      <td>1.0</td>\n",
       "      <td>0.0</td>\n",
       "      <td>1.0</td>\n",
       "      <td>4.0</td>\n",
       "      <td>2.0</td>\n",
       "      <td>0.0</td>\n",
       "      <td>6.0</td>\n",
       "      <td>5.0</td>\n",
       "      <td>...</td>\n",
       "      <td>2133.0</td>\n",
       "      <td>2527.0</td>\n",
       "      <td>2774.0</td>\n",
       "      <td>3369.0</td>\n",
       "      <td>5033.0</td>\n",
       "      <td>692.0</td>\n",
       "      <td>14050.0</td>\n",
       "      <td>8161.0</td>\n",
       "      <td>8342.0</td>\n",
       "      <td>10710.0</td>\n",
       "    </tr>\n",
       "    <tr>\n",
       "      <th>Deaths</th>\n",
       "      <td>0.0</td>\n",
       "      <td>0.0</td>\n",
       "      <td>0.0</td>\n",
       "      <td>0.0</td>\n",
       "      <td>0.0</td>\n",
       "      <td>0.0</td>\n",
       "      <td>0.0</td>\n",
       "      <td>0.0</td>\n",
       "      <td>0.0</td>\n",
       "      <td>0.0</td>\n",
       "      <td>...</td>\n",
       "      <td>43.0</td>\n",
       "      <td>152.0</td>\n",
       "      <td>111.0</td>\n",
       "      <td>193.0</td>\n",
       "      <td>242.0</td>\n",
       "      <td>3.0</td>\n",
       "      <td>566.0</td>\n",
       "      <td>281.0</td>\n",
       "      <td>477.0</td>\n",
       "      <td>512.0</td>\n",
       "    </tr>\n",
       "    <tr>\n",
       "      <th>Recovered</th>\n",
       "      <td>0.0</td>\n",
       "      <td>0.0</td>\n",
       "      <td>0.0</td>\n",
       "      <td>0.0</td>\n",
       "      <td>0.0</td>\n",
       "      <td>0.0</td>\n",
       "      <td>0.0</td>\n",
       "      <td>0.0</td>\n",
       "      <td>0.0</td>\n",
       "      <td>0.0</td>\n",
       "      <td>...</td>\n",
       "      <td>107.0</td>\n",
       "      <td>33.0</td>\n",
       "      <td>109.0</td>\n",
       "      <td>6.0</td>\n",
       "      <td>483.0</td>\n",
       "      <td>0.0</td>\n",
       "      <td>432.0</td>\n",
       "      <td>865.0</td>\n",
       "      <td>380.0</td>\n",
       "      <td>470.0</td>\n",
       "    </tr>\n",
       "  </tbody>\n",
       "</table>\n",
       "<p>3 rows × 54 columns</p>\n",
       "</div>"
      ],
      "text/plain": [
       "            1/23  1/24  1/25  1/26  1/27  1/28  1/29  1/30  1/31  2/1  ...  \\\n",
       "Infections   0.0   2.0   1.0   0.0   1.0   4.0   2.0   0.0   6.0  5.0  ...   \n",
       "Deaths       0.0   0.0   0.0   0.0   0.0   0.0   0.0   0.0   0.0  0.0  ...   \n",
       "Recovered    0.0   0.0   0.0   0.0   0.0   0.0   0.0   0.0   0.0  0.0  ...   \n",
       "\n",
       "               3/7     3/8     3/9    3/10    3/11   3/12     3/13    3/14  \\\n",
       "Infections  2133.0  2527.0  2774.0  3369.0  5033.0  692.0  14050.0  8161.0   \n",
       "Deaths        43.0   152.0   111.0   193.0   242.0    3.0    566.0   281.0   \n",
       "Recovered    107.0    33.0   109.0     6.0   483.0    0.0    432.0   865.0   \n",
       "\n",
       "              3/15     3/16  \n",
       "Infections  8342.0  10710.0  \n",
       "Deaths       477.0    512.0  \n",
       "Recovered    380.0    470.0  \n",
       "\n",
       "[3 rows x 54 columns]"
      ]
     },
     "execution_count": 18,
     "metadata": {},
     "output_type": "execute_result"
    }
   ],
   "source": [
    "df_new_events_euro =  pd.DataFrame([daily_infections_euro, daily_deaths_euro, daily_recovered_euro], \n",
    "                                    columns=dates, index=['Infections', 'Deaths', 'Recovered'])\n",
    "df_new_events_euro.head()"
   ]
  },
  {
   "cell_type": "code",
   "execution_count": 19,
   "metadata": {
    "ExecuteTime": {
     "end_time": "2020-03-17T10:33:29.981507Z",
     "start_time": "2020-03-17T10:33:29.678840Z"
    }
   },
   "outputs": [
    {
     "data": {
      "image/png": "[encoded data removed]",
      "text/plain": [
       "<Figure size 720x360 with 1 Axes>"
      ]
     },
     "metadata": {
      "needs_background": "light"
     },
     "output_type": "display_data"
    }
   ],
   "source": [
    "plt.figure(figsize=(10,5))\n",
    "SKIP=20\n",
    "plt.bar(dates[SKIP:], daily_infections_euro[SKIP:], label=\"Infections\", \n",
    "        bottom=np.array(daily_deaths_euro[SKIP:]+np.array(daily_recovered_euro[SKIP:])))\n",
    "plt.bar(dates[SKIP:], daily_deaths_euro[SKIP:], label=\"Deaths\", bottom=daily_recovered_euro[SKIP:])\n",
    "plt.bar(dates[SKIP:], daily_recovered_euro[SKIP:], label=\"Recovered\")\n",
    "plt.xticks(range(0, len(dates[SKIP:]), 4))\n",
    "plt.legend()\n",
    "plt.title('COVID-19 Euro 2020 - Daily New Events')\n",
    "plt.show()"
   ]
  },
  {
   "cell_type": "markdown",
   "metadata": {},
   "source": [
    "# France"
   ]
  },
  {
   "cell_type": "markdown",
   "metadata": {},
   "source": [
    "Time series of infections in France"
   ]
  },
  {
   "cell_type": "code",
   "execution_count": 20,
   "metadata": {
    "ExecuteTime": {
     "end_time": "2020-03-17T10:33:30.005338Z",
     "start_time": "2020-03-17T10:33:29.983362Z"
    }
   },
   "outputs": [],
   "source": [
    "\n",
    "dates, ts_infections_france = preprocess_sum(df_confirmed, ['France'])\n",
    "_, ts_deaths_france = preprocess_sum(df_deaths, ['France'])\n",
    "_, ts_recovered_france = preprocess_sum(df_recovered, ['France'])"
   ]
  },
  {
   "cell_type": "code",
   "execution_count": 21,
   "metadata": {
    "ExecuteTime": {
     "end_time": "2020-03-17T10:33:30.185896Z",
     "start_time": "2020-03-17T10:33:30.007286Z"
    }
   },
   "outputs": [
    {
     "data": {
      "image/png": "[encoded data removed]",
      "text/plain": [
       "<Figure size 720x360 with 1 Axes>"
      ]
     },
     "metadata": {
      "needs_background": "light"
     },
     "output_type": "display_data"
    }
   ],
   "source": [
    "plt.figure(figsize=(10,5))\n",
    "plt.plot(dates, ts_infections_france, label=\"Infections\")\n",
    "plt.plot(dates, ts_deaths_france, label=\"Deaths\")\n",
    "plt.plot(dates, ts_recovered_france, label=\"Recovered\")\n",
    "plt.xticks(range(0, len(dates), 4))\n",
    "plt.legend()\n",
    "plt.title('COVID-19 France 2020')\n",
    "plt.show()"
   ]
  },
  {
   "cell_type": "markdown",
   "metadata": {},
   "source": [
    "New infections, deaths, recovered\n",
    "\n"
   ]
  },
  {
   "cell_type": "code",
   "execution_count": 22,
   "metadata": {
    "ExecuteTime": {
     "end_time": "2020-03-17T10:33:30.211165Z",
     "start_time": "2020-03-17T10:33:30.188100Z"
    }
   },
   "outputs": [],
   "source": [
    "dates, daily_infections_france = preprocess_daily_new(df_confirmed, ['France'])\n",
    "_, daily_deaths_france = preprocess_daily_new(df_deaths, ['France'])\n",
    "_, daily_recovered_france = preprocess_daily_new(df_recovered, ['France'])"
   ]
  },
  {
   "cell_type": "code",
   "execution_count": 23,
   "metadata": {
    "ExecuteTime": {
     "end_time": "2020-03-17T10:33:30.244593Z",
     "start_time": "2020-03-17T10:33:30.215124Z"
    }
   },
   "outputs": [
    {
     "data": {
      "text/html": [
       "<div>\n",
       "<style scoped>\n",
       "    .dataframe tbody tr th:only-of-type {\n",
       "        vertical-align: middle;\n",
       "    }\n",
       "\n",
       "    .dataframe tbody tr th {\n",
       "        vertical-align: top;\n",
       "    }\n",
       "\n",
       "    .dataframe thead th {\n",
       "        text-align: right;\n",
       "    }\n",
       "</style>\n",
       "<table border=\"1\" class=\"dataframe\">\n",
       "  <thead>\n",
       "    <tr style=\"text-align: right;\">\n",
       "      <th></th>\n",
       "      <th>1/23</th>\n",
       "      <th>1/24</th>\n",
       "      <th>1/25</th>\n",
       "      <th>1/26</th>\n",
       "      <th>1/27</th>\n",
       "      <th>1/28</th>\n",
       "      <th>1/29</th>\n",
       "      <th>1/30</th>\n",
       "      <th>1/31</th>\n",
       "      <th>2/1</th>\n",
       "      <th>...</th>\n",
       "      <th>3/7</th>\n",
       "      <th>3/8</th>\n",
       "      <th>3/9</th>\n",
       "      <th>3/10</th>\n",
       "      <th>3/11</th>\n",
       "      <th>3/12</th>\n",
       "      <th>3/13</th>\n",
       "      <th>3/14</th>\n",
       "      <th>3/15</th>\n",
       "      <th>3/16</th>\n",
       "    </tr>\n",
       "  </thead>\n",
       "  <tbody>\n",
       "    <tr>\n",
       "      <th>Infections</th>\n",
       "      <td>0.0</td>\n",
       "      <td>2.0</td>\n",
       "      <td>1.0</td>\n",
       "      <td>0.0</td>\n",
       "      <td>0.0</td>\n",
       "      <td>1.0</td>\n",
       "      <td>1.0</td>\n",
       "      <td>0.0</td>\n",
       "      <td>0.0</td>\n",
       "      <td>1.0</td>\n",
       "      <td>...</td>\n",
       "      <td>301.0</td>\n",
       "      <td>177.0</td>\n",
       "      <td>83.0</td>\n",
       "      <td>575.0</td>\n",
       "      <td>497.0</td>\n",
       "      <td>0.0</td>\n",
       "      <td>1383.0</td>\n",
       "      <td>808.0</td>\n",
       "      <td>33.0</td>\n",
       "      <td>2137.0</td>\n",
       "    </tr>\n",
       "    <tr>\n",
       "      <th>Deaths</th>\n",
       "      <td>0.0</td>\n",
       "      <td>0.0</td>\n",
       "      <td>0.0</td>\n",
       "      <td>0.0</td>\n",
       "      <td>0.0</td>\n",
       "      <td>0.0</td>\n",
       "      <td>0.0</td>\n",
       "      <td>0.0</td>\n",
       "      <td>0.0</td>\n",
       "      <td>0.0</td>\n",
       "      <td>...</td>\n",
       "      <td>2.0</td>\n",
       "      <td>8.0</td>\n",
       "      <td>0.0</td>\n",
       "      <td>14.0</td>\n",
       "      <td>15.0</td>\n",
       "      <td>0.0</td>\n",
       "      <td>31.0</td>\n",
       "      <td>12.0</td>\n",
       "      <td>0.0</td>\n",
       "      <td>57.0</td>\n",
       "    </tr>\n",
       "    <tr>\n",
       "      <th>Recovered</th>\n",
       "      <td>0.0</td>\n",
       "      <td>0.0</td>\n",
       "      <td>0.0</td>\n",
       "      <td>0.0</td>\n",
       "      <td>0.0</td>\n",
       "      <td>0.0</td>\n",
       "      <td>0.0</td>\n",
       "      <td>0.0</td>\n",
       "      <td>0.0</td>\n",
       "      <td>0.0</td>\n",
       "      <td>...</td>\n",
       "      <td>0.0</td>\n",
       "      <td>0.0</td>\n",
       "      <td>0.0</td>\n",
       "      <td>0.0</td>\n",
       "      <td>0.0</td>\n",
       "      <td>0.0</td>\n",
       "      <td>0.0</td>\n",
       "      <td>0.0</td>\n",
       "      <td>0.0</td>\n",
       "      <td>0.0</td>\n",
       "    </tr>\n",
       "  </tbody>\n",
       "</table>\n",
       "<p>3 rows × 54 columns</p>\n",
       "</div>"
      ],
      "text/plain": [
       "            1/23  1/24  1/25  1/26  1/27  1/28  1/29  1/30  1/31  2/1  ...  \\\n",
       "Infections   0.0   2.0   1.0   0.0   0.0   1.0   1.0   0.0   0.0  1.0  ...   \n",
       "Deaths       0.0   0.0   0.0   0.0   0.0   0.0   0.0   0.0   0.0  0.0  ...   \n",
       "Recovered    0.0   0.0   0.0   0.0   0.0   0.0   0.0   0.0   0.0  0.0  ...   \n",
       "\n",
       "              3/7    3/8   3/9   3/10   3/11  3/12    3/13   3/14  3/15  \\\n",
       "Infections  301.0  177.0  83.0  575.0  497.0   0.0  1383.0  808.0  33.0   \n",
       "Deaths        2.0    8.0   0.0   14.0   15.0   0.0    31.0   12.0   0.0   \n",
       "Recovered     0.0    0.0   0.0    0.0    0.0   0.0     0.0    0.0   0.0   \n",
       "\n",
       "              3/16  \n",
       "Infections  2137.0  \n",
       "Deaths        57.0  \n",
       "Recovered      0.0  \n",
       "\n",
       "[3 rows x 54 columns]"
      ]
     },
     "execution_count": 23,
     "metadata": {},
     "output_type": "execute_result"
    }
   ],
   "source": [
    "df_new_events_france =  pd.DataFrame([daily_infections_france, daily_deaths_france, daily_recovered_france], \n",
    "                                    columns=dates, index=['Infections', 'Deaths', 'Recovered'])\n",
    "df_new_events_france.head()"
   ]
  },
  {
   "cell_type": "code",
   "execution_count": 24,
   "metadata": {
    "ExecuteTime": {
     "end_time": "2020-03-17T10:33:30.653134Z",
     "start_time": "2020-03-17T10:33:30.246837Z"
    }
   },
   "outputs": [
    {
     "data": {
      "image/png": "[encoded data removed]",
      "text/plain": [
       "<Figure size 720x360 with 1 Axes>"
      ]
     },
     "metadata": {
      "needs_background": "light"
     },
     "output_type": "display_data"
    }
   ],
   "source": [
    "plt.figure(figsize=(10,5))\n",
    "plt.bar(dates, daily_infections_france, label=\"Infections\", \n",
    "        bottom=np.array(daily_deaths_france+np.array(daily_recovered_france)))\n",
    "plt.bar(dates, daily_deaths_france, label=\"Deaths\", bottom=daily_recovered_france)\n",
    "plt.bar(dates, daily_recovered_france, label=\"Recovered\")\n",
    "plt.xticks(range(0, len(dates), 4))\n",
    "plt.legend()\n",
    "plt.title('COVID-19 France 2020 - Daily New Events')\n",
    "plt.show()"
   ]
  },
  {
   "cell_type": "code",
   "execution_count": 25,
   "metadata": {
    "ExecuteTime": {
     "end_time": "2020-03-17T10:33:31.306386Z",
     "start_time": "2020-03-17T10:33:30.655159Z"
    }
   },
   "outputs": [
    {
     "data": {
      "image/png": "[encoded data removed]",
      "text/plain": [
       "<Figure size 720x360 with 1 Axes>"
      ]
     },
     "metadata": {
      "needs_background": "light"
     },
     "output_type": "display_data"
    }
   ],
   "source": [
    "plt.figure(figsize=(10,5))\n",
    "plt.bar(dates, daily_infections_france, label=\"Infections\", \n",
    "        bottom=np.array(daily_deaths_france+np.array(daily_recovered_france)), log=True)\n",
    "plt.bar(dates, daily_deaths_france, label=\"Deaths\", bottom=daily_recovered_france, log=True)\n",
    "plt.bar(dates, daily_recovered_france, label=\"Recovered\", log=True)\n",
    "plt.xticks(range(0, len(dates), 4))\n",
    "plt.legend()\n",
    "plt.title('COVID-19 France 2020 - Daily New Events (Log Scale)')\n",
    "plt.show()"
   ]
  },
  {
   "cell_type": "markdown",
   "metadata": {},
   "source": [
    "# Plotting France vs China"
   ]
  },
  {
   "cell_type": "code",
   "execution_count": 26,
   "metadata": {
    "ExecuteTime": {
     "end_time": "2020-03-17T10:33:31.502913Z",
     "start_time": "2020-03-17T10:33:31.308058Z"
    }
   },
   "outputs": [
    {
     "data": {
      "image/png": "[encoded data removed]",
      "text/plain": [
       "<Figure size 720x360 with 1 Axes>"
      ]
     },
     "metadata": {
      "needs_background": "light"
     },
     "output_type": "display_data"
    }
   ],
   "source": [
    "dates,_ = preprocess_sum(df_confirmed, ['France']) # ensure proper date range\n",
    "\n",
    "plt.figure(figsize=(10,5))\n",
    "plt.plot(dates, ts_infections_france, label=\"France Infections\")\n",
    "plt.plot(dates, ts_deaths_france, label=\"France Deaths\")\n",
    "\n",
    "plt.plot(dates, ts_infections_china, label=\"China Infections\")\n",
    "plt.plot(dates, ts_deaths_china, label=\"China Deaths\")\n",
    "plt.xticks(range(0, len(dates), 4))\n",
    "\n",
    "plt.legend()\n",
    "plt.title('COVID-19 Infections and Deaths in France and China 2020')\n",
    "plt.show()"
   ]
  },
  {
   "cell_type": "markdown",
   "metadata": {},
   "source": [
    "Closer look at death rates"
   ]
  },
  {
   "cell_type": "code",
   "execution_count": 27,
   "metadata": {
    "ExecuteTime": {
     "end_time": "2020-03-17T10:34:51.836484Z",
     "start_time": "2020-03-17T10:34:51.580547Z"
    }
   },
   "outputs": [
    {
     "data": {
      "image/png": "[encoded data removed]",
      "text/plain": [
       "<Figure size 720x360 with 1 Axes>"
      ]
     },
     "metadata": {
      "needs_background": "light"
     },
     "output_type": "display_data"
    }
   ],
   "source": [
    "\n",
    "plt.figure(figsize=(10,5))\n",
    "plt.plot(dates, ts_deaths_france, label=\"France Deaths\")\n",
    "plt.plot(dates, ts_deaths_china, label=\"China Deaths\")\n",
    "plt.xticks(range(0, len(dates), 4))\n",
    "plt.legend()\n",
    "plt.title('COVID-19 Deaths in France and China 2020')\n",
    "plt.show()"
   ]
  },
  {
   "cell_type": "code",
   "execution_count": null,
   "metadata": {},
   "outputs": [],
   "source": []
  }
 ],
 "metadata": {
  "kernelspec": {
   "display_name": "Python 3",
   "language": "python",
   "name": "python3"
  },
  "language_info": {
   "codemirror_mode": {
    "name": "ipython",
    "version": 3
   },
   "file_extension": ".py",
   "mimetype": "text/x-python",
   "name": "python",
   "nbconvert_exporter": "python",
   "pygments_lexer": "ipython3",
   "version": "3.8.1"
  },
  "toc": {
   "base_numbering": 1,
   "nav_menu": {},
   "number_sections": true,
   "sideBar": true,
   "skip_h1_title": false,
   "title_cell": "Table of Contents",
   "title_sidebar": "Contents",
   "toc_cell": false,
   "toc_position": {},
   "toc_section_display": true,
   "toc_window_display": false
  }
 },
 "nbformat": 4,
 "nbformat_minor": 4
}
