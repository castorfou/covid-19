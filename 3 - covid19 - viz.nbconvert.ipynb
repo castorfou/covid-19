{
 "cells": [
  {
   "cell_type": "markdown",
   "metadata": {},
   "source": [
    "https://github.com/UncleGedd/COVID19-EDA/blob/master/COVID-19%20Viz.ipynb"
   ]
  },
  {
   "cell_type": "code",
   "execution_count": 1,
   "metadata": {
    "ExecuteTime": {
     "end_time": "2020-03-24T06:35:55.801011Z",
     "start_time": "2020-03-24T06:35:55.216124Z"
    }
   },
   "outputs": [],
   "source": [
    "import numpy as np\n",
    "import pandas as pd\n",
    "import matplotlib.pyplot as plt"
   ]
  },
  {
   "cell_type": "code",
   "execution_count": 2,
   "metadata": {
    "ExecuteTime": {
     "end_time": "2020-03-24T06:35:56.477739Z",
     "start_time": "2020-03-24T06:35:55.802843Z"
    }
   },
   "outputs": [],
   "source": [
    "#hide\n",
    "import requests\n",
    "import io\n",
    "import os\n",
    "\n",
    "os.environ['NO_PROXY'] = 'raw.githubusercontent.com'\n",
    "\n",
    "def load_timeseries(name, \n",
    "                    base_url='https://raw.githubusercontent.com/CSSEGISandData/COVID-19/master/csse_covid_19_data/csse_covid_19_time_series'):\n",
    "    # Thanks to kasparthommen for the suggestion to directly downloadCSSEGISandData\n",
    "    url = f'{base_url}/time_series_19-covid-{name}.csv'\n",
    "    print(url)\n",
    "    csv = requests.get(url).text\n",
    "    df = pd.read_csv(io.StringIO(csv))\n",
    "    return df\n",
    "\n"
   ]
  },
  {
   "cell_type": "code",
   "execution_count": 3,
   "metadata": {
    "ExecuteTime": {
     "end_time": "2020-03-24T06:35:56.911939Z",
     "start_time": "2020-03-24T06:35:56.479960Z"
    }
   },
   "outputs": [
    {
     "name": "stdout",
     "output_type": "stream",
     "text": [
      "https://raw.githubusercontent.com/CSSEGISandData/COVID-19/master/csse_covid_19_data/csse_covid_19_time_series/time_series_19-covid-Confirmed.csv\n",
      "https://raw.githubusercontent.com/CSSEGISandData/COVID-19/master/csse_covid_19_data/csse_covid_19_time_series/time_series_19-covid-Deaths.csv\n",
      "https://raw.githubusercontent.com/CSSEGISandData/COVID-19/master/csse_covid_19_data/csse_covid_19_time_series/time_series_19-covid-Recovered.csv\n"
     ]
    },
    {
     "data": {
      "text/html": [
       "<div>\n",
       "<style scoped>\n",
       "    .dataframe tbody tr th:only-of-type {\n",
       "        vertical-align: middle;\n",
       "    }\n",
       "\n",
       "    .dataframe tbody tr th {\n",
       "        vertical-align: top;\n",
       "    }\n",
       "\n",
       "    .dataframe thead th {\n",
       "        text-align: right;\n",
       "    }\n",
       "</style>\n",
       "<table border=\"1\" class=\"dataframe\">\n",
       "  <thead>\n",
       "    <tr style=\"text-align: right;\">\n",
       "      <th></th>\n",
       "      <th>Province/State</th>\n",
       "      <th>Country/Region</th>\n",
       "      <th>Lat</th>\n",
       "      <th>Long</th>\n",
       "      <th>1/22/20</th>\n",
       "      <th>1/23/20</th>\n",
       "      <th>1/24/20</th>\n",
       "      <th>1/25/20</th>\n",
       "      <th>1/26/20</th>\n",
       "      <th>1/27/20</th>\n",
       "      <th>...</th>\n",
       "      <th>3/14/20</th>\n",
       "      <th>3/15/20</th>\n",
       "      <th>3/16/20</th>\n",
       "      <th>3/17/20</th>\n",
       "      <th>3/18/20</th>\n",
       "      <th>3/19/20</th>\n",
       "      <th>3/20/20</th>\n",
       "      <th>3/21/20</th>\n",
       "      <th>3/22/20</th>\n",
       "      <th>3/23/20</th>\n",
       "    </tr>\n",
       "  </thead>\n",
       "  <tbody>\n",
       "    <tr>\n",
       "      <th>0</th>\n",
       "      <td>NaN</td>\n",
       "      <td>Thailand</td>\n",
       "      <td>15.0000</td>\n",
       "      <td>101.0000</td>\n",
       "      <td>2</td>\n",
       "      <td>3</td>\n",
       "      <td>5</td>\n",
       "      <td>7</td>\n",
       "      <td>8</td>\n",
       "      <td>8</td>\n",
       "      <td>...</td>\n",
       "      <td>82</td>\n",
       "      <td>114</td>\n",
       "      <td>147</td>\n",
       "      <td>177</td>\n",
       "      <td>212</td>\n",
       "      <td>272</td>\n",
       "      <td>322</td>\n",
       "      <td>411</td>\n",
       "      <td>599</td>\n",
       "      <td>599.0</td>\n",
       "    </tr>\n",
       "    <tr>\n",
       "      <th>1</th>\n",
       "      <td>NaN</td>\n",
       "      <td>Japan</td>\n",
       "      <td>36.0000</td>\n",
       "      <td>138.0000</td>\n",
       "      <td>2</td>\n",
       "      <td>1</td>\n",
       "      <td>2</td>\n",
       "      <td>2</td>\n",
       "      <td>4</td>\n",
       "      <td>4</td>\n",
       "      <td>...</td>\n",
       "      <td>773</td>\n",
       "      <td>839</td>\n",
       "      <td>825</td>\n",
       "      <td>878</td>\n",
       "      <td>889</td>\n",
       "      <td>924</td>\n",
       "      <td>963</td>\n",
       "      <td>1007</td>\n",
       "      <td>1086</td>\n",
       "      <td>1086.0</td>\n",
       "    </tr>\n",
       "    <tr>\n",
       "      <th>2</th>\n",
       "      <td>NaN</td>\n",
       "      <td>Singapore</td>\n",
       "      <td>1.2833</td>\n",
       "      <td>103.8333</td>\n",
       "      <td>0</td>\n",
       "      <td>1</td>\n",
       "      <td>3</td>\n",
       "      <td>3</td>\n",
       "      <td>4</td>\n",
       "      <td>5</td>\n",
       "      <td>...</td>\n",
       "      <td>212</td>\n",
       "      <td>226</td>\n",
       "      <td>243</td>\n",
       "      <td>266</td>\n",
       "      <td>313</td>\n",
       "      <td>345</td>\n",
       "      <td>385</td>\n",
       "      <td>432</td>\n",
       "      <td>455</td>\n",
       "      <td>455.0</td>\n",
       "    </tr>\n",
       "    <tr>\n",
       "      <th>3</th>\n",
       "      <td>NaN</td>\n",
       "      <td>Nepal</td>\n",
       "      <td>28.1667</td>\n",
       "      <td>84.2500</td>\n",
       "      <td>0</td>\n",
       "      <td>0</td>\n",
       "      <td>0</td>\n",
       "      <td>1</td>\n",
       "      <td>1</td>\n",
       "      <td>1</td>\n",
       "      <td>...</td>\n",
       "      <td>1</td>\n",
       "      <td>1</td>\n",
       "      <td>1</td>\n",
       "      <td>1</td>\n",
       "      <td>1</td>\n",
       "      <td>1</td>\n",
       "      <td>1</td>\n",
       "      <td>1</td>\n",
       "      <td>2</td>\n",
       "      <td>2.0</td>\n",
       "    </tr>\n",
       "    <tr>\n",
       "      <th>4</th>\n",
       "      <td>NaN</td>\n",
       "      <td>Malaysia</td>\n",
       "      <td>2.5000</td>\n",
       "      <td>112.5000</td>\n",
       "      <td>0</td>\n",
       "      <td>0</td>\n",
       "      <td>0</td>\n",
       "      <td>3</td>\n",
       "      <td>4</td>\n",
       "      <td>4</td>\n",
       "      <td>...</td>\n",
       "      <td>238</td>\n",
       "      <td>428</td>\n",
       "      <td>566</td>\n",
       "      <td>673</td>\n",
       "      <td>790</td>\n",
       "      <td>900</td>\n",
       "      <td>1030</td>\n",
       "      <td>1183</td>\n",
       "      <td>1306</td>\n",
       "      <td>1306.0</td>\n",
       "    </tr>\n",
       "  </tbody>\n",
       "</table>\n",
       "<p>5 rows × 66 columns</p>\n",
       "</div>"
      ],
      "text/plain": [
       "  Province/State Country/Region      Lat      Long  1/22/20  1/23/20  1/24/20  \\\n",
       "0            NaN       Thailand  15.0000  101.0000        2        3        5   \n",
       "1            NaN          Japan  36.0000  138.0000        2        1        2   \n",
       "2            NaN      Singapore   1.2833  103.8333        0        1        3   \n",
       "3            NaN          Nepal  28.1667   84.2500        0        0        0   \n",
       "4            NaN       Malaysia   2.5000  112.5000        0        0        0   \n",
       "\n",
       "   1/25/20  1/26/20  1/27/20  ...  3/14/20  3/15/20  3/16/20  3/17/20  \\\n",
       "0        7        8        8  ...       82      114      147      177   \n",
       "1        2        4        4  ...      773      839      825      878   \n",
       "2        3        4        5  ...      212      226      243      266   \n",
       "3        1        1        1  ...        1        1        1        1   \n",
       "4        3        4        4  ...      238      428      566      673   \n",
       "\n",
       "   3/18/20  3/19/20  3/20/20  3/21/20  3/22/20  3/23/20  \n",
       "0      212      272      322      411      599    599.0  \n",
       "1      889      924      963     1007     1086   1086.0  \n",
       "2      313      345      385      432      455    455.0  \n",
       "3        1        1        1        1        2      2.0  \n",
       "4      790      900     1030     1183     1306   1306.0  \n",
       "\n",
       "[5 rows x 66 columns]"
      ]
     },
     "execution_count": 3,
     "metadata": {},
     "output_type": "execute_result"
    }
   ],
   "source": [
    "df_confirmed = load_timeseries('Confirmed')\n",
    "df_deaths = load_timeseries('Deaths')\n",
    "df_recovered = load_timeseries('Recovered')\n",
    "df_confirmed.head()"
   ]
  },
  {
   "cell_type": "code",
   "execution_count": 4,
   "metadata": {
    "ExecuteTime": {
     "end_time": "2020-03-24T06:35:56.920696Z",
     "start_time": "2020-03-24T06:35:56.914324Z"
    }
   },
   "outputs": [
    {
     "data": {
      "text/plain": [
       "['Afghanistan', 'Albania', 'Algeria', 'Andorra', 'Angola']"
      ]
     },
     "execution_count": 4,
     "metadata": {},
     "output_type": "execute_result"
    }
   ],
   "source": [
    "sorted(df_confirmed['Country/Region'].unique())[:5]\n"
   ]
  },
  {
   "cell_type": "code",
   "execution_count": 5,
   "metadata": {
    "ExecuteTime": {
     "end_time": "2020-03-24T06:35:56.937641Z",
     "start_time": "2020-03-24T06:35:56.923263Z"
    }
   },
   "outputs": [],
   "source": [
    "euro = [\n",
    "'Austria',\n",
    "'Belarus',\n",
    "'Belgium',\n",
    "'Bosnia and Herzegovina',\n",
    "'Bulgaria',\n",
    "'Croatia',\n",
    "'Cyprus',\n",
    "'Czechia',\n",
    "'Denmark',\n",
    "'Estonia',\n",
    "'Finland',\n",
    "'France',\n",
    "'Germany',\n",
    "'Greece',\n",
    "'Hungary',\n",
    "'Ireland',\n",
    "'Italy',\n",
    "'Latvia',\n",
    "'Liechtenstein',\n",
    "'Lithuania',\n",
    "'Luxembourg',\n",
    "'Malta',\n",
    "'Monaco',\n",
    "'Moldova',\n",
    "'Netherlands',\n",
    "'North Macedonia',\n",
    "'Norway',\n",
    "'Poland',\n",
    "'Portugal',\n",
    "'Romania',\n",
    "'Serbia',\n",
    "'Slovakia',\n",
    "'Slovenia',\n",
    "'Spain',\n",
    "'Sweden',\n",
    "'Switzerland',\n",
    "'Ukraine',\n",
    "'United Kingdom'\n",
    "]"
   ]
  },
  {
   "cell_type": "code",
   "execution_count": 6,
   "metadata": {
    "ExecuteTime": {
     "end_time": "2020-03-24T06:35:56.957091Z",
     "start_time": "2020-03-24T06:35:56.940553Z"
    }
   },
   "outputs": [],
   "source": [
    "# sum daily data for a particular list of counties\n",
    "def preprocess_sum(df, countries):\n",
    "    df_country = df[df['Country/Region'].isin(countries)].drop(df.columns[0:4], axis=1)\n",
    "    df_country = df_country.apply(lambda c: np.sum(c), axis=0) # returns a series\n",
    "    dates, ts_data = list(map(lambda i: i[:-3], df_country.index)), list(df_country)\n",
    "    return dates, ts_data"
   ]
  },
  {
   "cell_type": "code",
   "execution_count": 7,
   "metadata": {
    "ExecuteTime": {
     "end_time": "2020-03-24T06:35:56.976326Z",
     "start_time": "2020-03-24T06:35:56.959382Z"
    }
   },
   "outputs": [],
   "source": [
    "# get daily counts of new events (infections, recoveries, deaths)\n",
    "def preprocess_daily_new(df, countries):\n",
    "    df_country = df[df['Country/Region'].isin(countries)].drop(df.columns[0:4], axis=1)\n",
    "    df_country = df_country.apply(lambda c: np.sum(c), axis=0).diff() # returns a series\n",
    "    dates, ts_data = list(map(lambda i: i[:-3], df_country.index[1:])), list(df_country)[1:]\n",
    "    return dates, ts_data"
   ]
  },
  {
   "cell_type": "markdown",
   "metadata": {},
   "source": [
    "# China"
   ]
  },
  {
   "cell_type": "markdown",
   "metadata": {},
   "source": [
    "Time series of infections in China"
   ]
  },
  {
   "cell_type": "code",
   "execution_count": 8,
   "metadata": {
    "ExecuteTime": {
     "end_time": "2020-03-24T06:35:57.025317Z",
     "start_time": "2020-03-24T06:35:56.979167Z"
    }
   },
   "outputs": [],
   "source": [
    "\n",
    "dates, ts_infections_china = preprocess_sum(df_confirmed, ['China'])\n",
    "_, ts_deaths_china = preprocess_sum(df_deaths, ['China'])\n",
    "_, ts_recovered_china = preprocess_sum(df_recovered, ['China'])"
   ]
  },
  {
   "cell_type": "code",
   "execution_count": 9,
   "metadata": {
    "ExecuteTime": {
     "end_time": "2020-03-24T06:35:57.282479Z",
     "start_time": "2020-03-24T06:35:57.027585Z"
    }
   },
   "outputs": [
    {
     "data": {
      "image/png": "[encoded data removed]",
      "text/plain": [
       "<Figure size 720x360 with 1 Axes>"
      ]
     },
     "metadata": {
      "needs_background": "light"
     },
     "output_type": "display_data"
    }
   ],
   "source": [
    "plt.figure(figsize=(10,5))\n",
    "plt.plot(dates, ts_infections_china, label=\"Infections\")\n",
    "plt.plot(dates, ts_deaths_china, label=\"Deaths\")\n",
    "plt.plot(dates, ts_recovered_china, label=\"Recovered\")\n",
    "plt.xticks(range(0, len(dates), 4))\n",
    "plt.legend()\n",
    "plt.title('COVID-19 China 2020')\n",
    "plt.show()"
   ]
  },
  {
   "cell_type": "markdown",
   "metadata": {},
   "source": [
    "New infections, deaths, recovered\n",
    "\n"
   ]
  },
  {
   "cell_type": "code",
   "execution_count": 10,
   "metadata": {
    "ExecuteTime": {
     "end_time": "2020-03-24T06:35:57.313365Z",
     "start_time": "2020-03-24T06:35:57.284026Z"
    }
   },
   "outputs": [],
   "source": [
    "dates, daily_infections_china = preprocess_daily_new(df_confirmed, ['China'])\n",
    "_, daily_deaths_china = preprocess_daily_new(df_deaths, ['China'])\n",
    "_, daily_recovered_china = preprocess_daily_new(df_recovered, ['China'])"
   ]
  },
  {
   "cell_type": "code",
   "execution_count": 11,
   "metadata": {
    "ExecuteTime": {
     "end_time": "2020-03-24T06:35:57.350497Z",
     "start_time": "2020-03-24T06:35:57.315025Z"
    }
   },
   "outputs": [
    {
     "data": {
      "text/html": [
       "<div>\n",
       "<style scoped>\n",
       "    .dataframe tbody tr th:only-of-type {\n",
       "        vertical-align: middle;\n",
       "    }\n",
       "\n",
       "    .dataframe tbody tr th {\n",
       "        vertical-align: top;\n",
       "    }\n",
       "\n",
       "    .dataframe thead th {\n",
       "        text-align: right;\n",
       "    }\n",
       "</style>\n",
       "<table border=\"1\" class=\"dataframe\">\n",
       "  <thead>\n",
       "    <tr style=\"text-align: right;\">\n",
       "      <th></th>\n",
       "      <th>1/23</th>\n",
       "      <th>1/24</th>\n",
       "      <th>1/25</th>\n",
       "      <th>1/26</th>\n",
       "      <th>1/27</th>\n",
       "      <th>1/28</th>\n",
       "      <th>1/29</th>\n",
       "      <th>1/30</th>\n",
       "      <th>1/31</th>\n",
       "      <th>2/1</th>\n",
       "      <th>...</th>\n",
       "      <th>3/14</th>\n",
       "      <th>3/15</th>\n",
       "      <th>3/16</th>\n",
       "      <th>3/17</th>\n",
       "      <th>3/18</th>\n",
       "      <th>3/19</th>\n",
       "      <th>3/20</th>\n",
       "      <th>3/21</th>\n",
       "      <th>3/22</th>\n",
       "      <th>3/23</th>\n",
       "    </tr>\n",
       "  </thead>\n",
       "  <tbody>\n",
       "    <tr>\n",
       "      <th>Infections</th>\n",
       "      <td>95.0</td>\n",
       "      <td>277.0</td>\n",
       "      <td>486.0</td>\n",
       "      <td>669.0</td>\n",
       "      <td>802.0</td>\n",
       "      <td>2632.0</td>\n",
       "      <td>578.0</td>\n",
       "      <td>2054.0</td>\n",
       "      <td>1661.0</td>\n",
       "      <td>2089.0</td>\n",
       "      <td>...</td>\n",
       "      <td>32.0</td>\n",
       "      <td>26.0</td>\n",
       "      <td>30.0</td>\n",
       "      <td>25.0</td>\n",
       "      <td>44.0</td>\n",
       "      <td>54.0</td>\n",
       "      <td>94.0</td>\n",
       "      <td>55.0</td>\n",
       "      <td>92.0</td>\n",
       "      <td>42.0</td>\n",
       "    </tr>\n",
       "    <tr>\n",
       "      <th>Deaths</th>\n",
       "      <td>1.0</td>\n",
       "      <td>8.0</td>\n",
       "      <td>16.0</td>\n",
       "      <td>14.0</td>\n",
       "      <td>26.0</td>\n",
       "      <td>49.0</td>\n",
       "      <td>2.0</td>\n",
       "      <td>38.0</td>\n",
       "      <td>42.0</td>\n",
       "      <td>46.0</td>\n",
       "      <td>...</td>\n",
       "      <td>13.0</td>\n",
       "      <td>10.0</td>\n",
       "      <td>14.0</td>\n",
       "      <td>13.0</td>\n",
       "      <td>11.0</td>\n",
       "      <td>8.0</td>\n",
       "      <td>4.0</td>\n",
       "      <td>6.0</td>\n",
       "      <td>6.0</td>\n",
       "      <td>9.0</td>\n",
       "    </tr>\n",
       "    <tr>\n",
       "      <th>Recovered</th>\n",
       "      <td>2.0</td>\n",
       "      <td>6.0</td>\n",
       "      <td>3.0</td>\n",
       "      <td>10.0</td>\n",
       "      <td>9.0</td>\n",
       "      <td>43.0</td>\n",
       "      <td>19.0</td>\n",
       "      <td>15.0</td>\n",
       "      <td>79.0</td>\n",
       "      <td>61.0</td>\n",
       "      <td>...</td>\n",
       "      <td>1464.0</td>\n",
       "      <td>1357.0</td>\n",
       "      <td>893.0</td>\n",
       "      <td>888.0</td>\n",
       "      <td>957.0</td>\n",
       "      <td>780.0</td>\n",
       "      <td>731.0</td>\n",
       "      <td>591.0</td>\n",
       "      <td>505.0</td>\n",
       "      <td>452.0</td>\n",
       "    </tr>\n",
       "  </tbody>\n",
       "</table>\n",
       "<p>3 rows × 61 columns</p>\n",
       "</div>"
      ],
      "text/plain": [
       "            1/23   1/24   1/25   1/26   1/27    1/28   1/29    1/30    1/31  \\\n",
       "Infections  95.0  277.0  486.0  669.0  802.0  2632.0  578.0  2054.0  1661.0   \n",
       "Deaths       1.0    8.0   16.0   14.0   26.0    49.0    2.0    38.0    42.0   \n",
       "Recovered    2.0    6.0    3.0   10.0    9.0    43.0   19.0    15.0    79.0   \n",
       "\n",
       "               2/1  ...    3/14    3/15   3/16   3/17   3/18   3/19   3/20  \\\n",
       "Infections  2089.0  ...    32.0    26.0   30.0   25.0   44.0   54.0   94.0   \n",
       "Deaths        46.0  ...    13.0    10.0   14.0   13.0   11.0    8.0    4.0   \n",
       "Recovered     61.0  ...  1464.0  1357.0  893.0  888.0  957.0  780.0  731.0   \n",
       "\n",
       "             3/21   3/22   3/23  \n",
       "Infections   55.0   92.0   42.0  \n",
       "Deaths        6.0    6.0    9.0  \n",
       "Recovered   591.0  505.0  452.0  \n",
       "\n",
       "[3 rows x 61 columns]"
      ]
     },
     "execution_count": 11,
     "metadata": {},
     "output_type": "execute_result"
    }
   ],
   "source": [
    "df_new_events_china =  pd.DataFrame([daily_infections_china, daily_deaths_china, daily_recovered_china], \n",
    "                                    columns=dates, index=['Infections', 'Deaths', 'Recovered'])\n",
    "df_new_events_china.head()"
   ]
  },
  {
   "cell_type": "code",
   "execution_count": 12,
   "metadata": {
    "ExecuteTime": {
     "end_time": "2020-03-24T06:35:57.863812Z",
     "start_time": "2020-03-24T06:35:57.352340Z"
    }
   },
   "outputs": [
    {
     "data": {
      "image/png": "[encoded data removed]",
      "text/plain": [
       "<Figure size 720x360 with 1 Axes>"
      ]
     },
     "metadata": {
      "needs_background": "light"
     },
     "output_type": "display_data"
    }
   ],
   "source": [
    "plt.figure(figsize=(10,5))\n",
    "plt.bar(dates, daily_infections_china, label=\"Infections\", \n",
    "        bottom=np.array(daily_deaths_china+np.array(daily_recovered_china)))\n",
    "plt.bar(dates, daily_deaths_china, label=\"Deaths\", bottom=daily_recovered_china)\n",
    "plt.bar(dates, daily_recovered_china, label=\"Recovered\")\n",
    "plt.xticks(range(0, len(dates), 4))\n",
    "plt.legend()\n",
    "plt.title('COVID-19 China 2020 - Daily New Events')\n",
    "plt.show()"
   ]
  },
  {
   "cell_type": "code",
   "execution_count": 13,
   "metadata": {
    "ExecuteTime": {
     "end_time": "2020-03-24T06:35:58.826045Z",
     "start_time": "2020-03-24T06:35:57.865694Z"
    }
   },
   "outputs": [
    {
     "data": {
      "image/png": "[encoded data removed]",
      "text/plain": [
       "<Figure size 720x360 with 1 Axes>"
      ]
     },
     "metadata": {
      "needs_background": "light"
     },
     "output_type": "display_data"
    }
   ],
   "source": [
    "plt.figure(figsize=(10,5))\n",
    "plt.bar(dates, daily_infections_china, label=\"Infections\", \n",
    "        bottom=np.array(daily_deaths_china+np.array(daily_recovered_china)), log=True)\n",
    "plt.bar(dates, daily_deaths_china, label=\"Deaths\", bottom=daily_recovered_china, log=True)\n",
    "plt.bar(dates, daily_recovered_china, label=\"Recovered\", log=True)\n",
    "plt.xticks(range(0, len(dates), 4))\n",
    "plt.legend()\n",
    "plt.title('COVID-19 China 2020 - Daily New Events (Log Scale)')\n",
    "plt.show()"
   ]
  },
  {
   "cell_type": "markdown",
   "metadata": {},
   "source": [
    "# Europe"
   ]
  },
  {
   "cell_type": "markdown",
   "metadata": {},
   "source": [
    "Time series of infections in Europe\n",
    "\n"
   ]
  },
  {
   "cell_type": "code",
   "execution_count": 14,
   "metadata": {
    "ExecuteTime": {
     "end_time": "2020-03-24T06:35:58.844622Z",
     "start_time": "2020-03-24T06:35:58.828603Z"
    }
   },
   "outputs": [],
   "source": [
    "df_euro = df_confirmed[df_confirmed['Country/Region'].isin(euro)].drop(df_confirmed.columns[0:4], axis=1)\n",
    "df_euro = df_euro.apply(lambda c: np.sum(c), axis=0) # returns a series\n",
    "ts_infections_euro = list(df_euro)"
   ]
  },
  {
   "cell_type": "code",
   "execution_count": 15,
   "metadata": {
    "ExecuteTime": {
     "end_time": "2020-03-24T06:35:58.881212Z",
     "start_time": "2020-03-24T06:35:58.846462Z"
    }
   },
   "outputs": [],
   "source": [
    "dates, ts_infections_euro = preprocess_sum(df_confirmed, euro)\n",
    "dates, ts_deaths_euro = preprocess_sum(df_deaths, euro)\n",
    "dates, ts_recovered_euro = preprocess_sum(df_recovered, euro)"
   ]
  },
  {
   "cell_type": "code",
   "execution_count": 16,
   "metadata": {
    "ExecuteTime": {
     "end_time": "2020-03-24T06:35:59.078802Z",
     "start_time": "2020-03-24T06:35:58.882867Z"
    }
   },
   "outputs": [
    {
     "data": {
      "image/png": "[encoded data removed]",
      "text/plain": [
       "<Figure size 720x360 with 1 Axes>"
      ]
     },
     "metadata": {
      "needs_background": "light"
     },
     "output_type": "display_data"
    }
   ],
   "source": [
    "plt.figure(figsize=(10,5))\n",
    "plt.plot(dates, ts_infections_euro, label=\"Infections\")\n",
    "plt.plot(dates, ts_deaths_euro, label=\"Deaths\")\n",
    "plt.plot(dates, ts_recovered_euro, label=\"Recovered\")\n",
    "plt.xticks(range(0, len(dates), 4))\n",
    "plt.legend()\n",
    "plt.title('COVID-19 Europe 2020')\n",
    "plt.show()"
   ]
  },
  {
   "cell_type": "markdown",
   "metadata": {},
   "source": [
    "New infections, deaths, recovered\n",
    "\n"
   ]
  },
  {
   "cell_type": "code",
   "execution_count": 17,
   "metadata": {
    "ExecuteTime": {
     "end_time": "2020-03-24T06:35:59.111340Z",
     "start_time": "2020-03-24T06:35:59.080417Z"
    }
   },
   "outputs": [],
   "source": [
    "dates, daily_infections_euro = preprocess_daily_new(df_confirmed, euro)\n",
    "_, daily_deaths_euro = preprocess_daily_new(df_deaths, euro)\n",
    "_, daily_recovered_euro = preprocess_daily_new(df_recovered, euro)"
   ]
  },
  {
   "cell_type": "code",
   "execution_count": 18,
   "metadata": {
    "ExecuteTime": {
     "end_time": "2020-03-24T06:35:59.139100Z",
     "start_time": "2020-03-24T06:35:59.112976Z"
    }
   },
   "outputs": [
    {
     "data": {
      "text/html": [
       "<div>\n",
       "<style scoped>\n",
       "    .dataframe tbody tr th:only-of-type {\n",
       "        vertical-align: middle;\n",
       "    }\n",
       "\n",
       "    .dataframe tbody tr th {\n",
       "        vertical-align: top;\n",
       "    }\n",
       "\n",
       "    .dataframe thead th {\n",
       "        text-align: right;\n",
       "    }\n",
       "</style>\n",
       "<table border=\"1\" class=\"dataframe\">\n",
       "  <thead>\n",
       "    <tr style=\"text-align: right;\">\n",
       "      <th></th>\n",
       "      <th>1/23</th>\n",
       "      <th>1/24</th>\n",
       "      <th>1/25</th>\n",
       "      <th>1/26</th>\n",
       "      <th>1/27</th>\n",
       "      <th>1/28</th>\n",
       "      <th>1/29</th>\n",
       "      <th>1/30</th>\n",
       "      <th>1/31</th>\n",
       "      <th>2/1</th>\n",
       "      <th>...</th>\n",
       "      <th>3/14</th>\n",
       "      <th>3/15</th>\n",
       "      <th>3/16</th>\n",
       "      <th>3/17</th>\n",
       "      <th>3/18</th>\n",
       "      <th>3/19</th>\n",
       "      <th>3/20</th>\n",
       "      <th>3/21</th>\n",
       "      <th>3/22</th>\n",
       "      <th>3/23</th>\n",
       "    </tr>\n",
       "  </thead>\n",
       "  <tbody>\n",
       "    <tr>\n",
       "      <th>Infections</th>\n",
       "      <td>0.0</td>\n",
       "      <td>2.0</td>\n",
       "      <td>1.0</td>\n",
       "      <td>0.0</td>\n",
       "      <td>1.0</td>\n",
       "      <td>4.0</td>\n",
       "      <td>2.0</td>\n",
       "      <td>0.0</td>\n",
       "      <td>6.0</td>\n",
       "      <td>5.0</td>\n",
       "      <td>...</td>\n",
       "      <td>8162.0</td>\n",
       "      <td>8345.0</td>\n",
       "      <td>10719.0</td>\n",
       "      <td>11044.0</td>\n",
       "      <td>13578.0</td>\n",
       "      <td>18245.0</td>\n",
       "      <td>20318.0</td>\n",
       "      <td>21362.0</td>\n",
       "      <td>18294.0</td>\n",
       "      <td>-132.0</td>\n",
       "    </tr>\n",
       "    <tr>\n",
       "      <th>Deaths</th>\n",
       "      <td>0.0</td>\n",
       "      <td>0.0</td>\n",
       "      <td>0.0</td>\n",
       "      <td>0.0</td>\n",
       "      <td>0.0</td>\n",
       "      <td>0.0</td>\n",
       "      <td>0.0</td>\n",
       "      <td>0.0</td>\n",
       "      <td>0.0</td>\n",
       "      <td>0.0</td>\n",
       "      <td>...</td>\n",
       "      <td>281.0</td>\n",
       "      <td>477.0</td>\n",
       "      <td>512.0</td>\n",
       "      <td>586.0</td>\n",
       "      <td>616.0</td>\n",
       "      <td>863.0</td>\n",
       "      <td>1184.0</td>\n",
       "      <td>1422.0</td>\n",
       "      <td>1318.0</td>\n",
       "      <td>0.0</td>\n",
       "    </tr>\n",
       "    <tr>\n",
       "      <th>Recovered</th>\n",
       "      <td>0.0</td>\n",
       "      <td>0.0</td>\n",
       "      <td>0.0</td>\n",
       "      <td>0.0</td>\n",
       "      <td>0.0</td>\n",
       "      <td>0.0</td>\n",
       "      <td>0.0</td>\n",
       "      <td>0.0</td>\n",
       "      <td>0.0</td>\n",
       "      <td>0.0</td>\n",
       "      <td>...</td>\n",
       "      <td>865.0</td>\n",
       "      <td>380.0</td>\n",
       "      <td>470.0</td>\n",
       "      <td>735.0</td>\n",
       "      <td>1243.0</td>\n",
       "      <td>459.0</td>\n",
       "      <td>532.0</td>\n",
       "      <td>2532.0</td>\n",
       "      <td>3784.0</td>\n",
       "      <td>-6.0</td>\n",
       "    </tr>\n",
       "  </tbody>\n",
       "</table>\n",
       "<p>3 rows × 61 columns</p>\n",
       "</div>"
      ],
      "text/plain": [
       "            1/23  1/24  1/25  1/26  1/27  1/28  1/29  1/30  1/31  2/1  ...  \\\n",
       "Infections   0.0   2.0   1.0   0.0   1.0   4.0   2.0   0.0   6.0  5.0  ...   \n",
       "Deaths       0.0   0.0   0.0   0.0   0.0   0.0   0.0   0.0   0.0  0.0  ...   \n",
       "Recovered    0.0   0.0   0.0   0.0   0.0   0.0   0.0   0.0   0.0  0.0  ...   \n",
       "\n",
       "              3/14    3/15     3/16     3/17     3/18     3/19     3/20  \\\n",
       "Infections  8162.0  8345.0  10719.0  11044.0  13578.0  18245.0  20318.0   \n",
       "Deaths       281.0   477.0    512.0    586.0    616.0    863.0   1184.0   \n",
       "Recovered    865.0   380.0    470.0    735.0   1243.0    459.0    532.0   \n",
       "\n",
       "               3/21     3/22   3/23  \n",
       "Infections  21362.0  18294.0 -132.0  \n",
       "Deaths       1422.0   1318.0    0.0  \n",
       "Recovered    2532.0   3784.0   -6.0  \n",
       "\n",
       "[3 rows x 61 columns]"
      ]
     },
     "execution_count": 18,
     "metadata": {},
     "output_type": "execute_result"
    }
   ],
   "source": [
    "df_new_events_euro =  pd.DataFrame([daily_infections_euro, daily_deaths_euro, daily_recovered_euro], \n",
    "                                    columns=dates, index=['Infections', 'Deaths', 'Recovered'])\n",
    "df_new_events_euro.head()"
   ]
  },
  {
   "cell_type": "code",
   "execution_count": 19,
   "metadata": {
    "ExecuteTime": {
     "end_time": "2020-03-24T06:35:59.566684Z",
     "start_time": "2020-03-24T06:35:59.141208Z"
    }
   },
   "outputs": [
    {
     "data": {
      "image/png": "[encoded data removed]",
      "text/plain": [
       "<Figure size 720x360 with 1 Axes>"
      ]
     },
     "metadata": {
      "needs_background": "light"
     },
     "output_type": "display_data"
    }
   ],
   "source": [
    "plt.figure(figsize=(10,5))\n",
    "SKIP=20\n",
    "plt.bar(dates[SKIP:], daily_infections_euro[SKIP:], label=\"Infections\", \n",
    "        bottom=np.array(daily_deaths_euro[SKIP:]+np.array(daily_recovered_euro[SKIP:])))\n",
    "plt.bar(dates[SKIP:], daily_deaths_euro[SKIP:], label=\"Deaths\", bottom=daily_recovered_euro[SKIP:])\n",
    "plt.bar(dates[SKIP:], daily_recovered_euro[SKIP:], label=\"Recovered\")\n",
    "plt.xticks(range(0, len(dates[SKIP:]), 4))\n",
    "plt.legend()\n",
    "plt.title('COVID-19 Euro 2020 - Daily New Events')\n",
    "plt.show()"
   ]
  },
  {
   "cell_type": "markdown",
   "metadata": {},
   "source": [
    "# France"
   ]
  },
  {
   "cell_type": "markdown",
   "metadata": {},
   "source": [
    "Time series of infections in France"
   ]
  },
  {
   "cell_type": "code",
   "execution_count": 20,
   "metadata": {
    "ExecuteTime": {
     "end_time": "2020-03-24T06:35:59.599618Z",
     "start_time": "2020-03-24T06:35:59.568371Z"
    }
   },
   "outputs": [],
   "source": [
    "\n",
    "dates, ts_infections_france = preprocess_sum(df_confirmed, ['France'])\n",
    "_, ts_deaths_france = preprocess_sum(df_deaths, ['France'])\n",
    "_, ts_recovered_france = preprocess_sum(df_recovered, ['France'])"
   ]
  },
  {
   "cell_type": "code",
   "execution_count": 21,
   "metadata": {
    "ExecuteTime": {
     "end_time": "2020-03-24T06:35:59.841548Z",
     "start_time": "2020-03-24T06:35:59.601281Z"
    }
   },
   "outputs": [
    {
     "data": {
      "image/png": "[encoded data removed]",
      "text/plain": [
       "<Figure size 720x360 with 1 Axes>"
      ]
     },
     "metadata": {
      "needs_background": "light"
     },
     "output_type": "display_data"
    }
   ],
   "source": [
    "plt.figure(figsize=(10,5))\n",
    "plt.plot(dates, ts_infections_france, label=\"Infections\")\n",
    "plt.plot(dates, ts_deaths_france, label=\"Deaths\")\n",
    "plt.plot(dates, ts_recovered_france, label=\"Recovered\")\n",
    "plt.xticks(range(0, len(dates), 4))\n",
    "plt.legend()\n",
    "plt.title('COVID-19 France 2020')\n",
    "plt.show()"
   ]
  },
  {
   "cell_type": "markdown",
   "metadata": {},
   "source": [
    "New infections, deaths, recovered\n",
    "\n"
   ]
  },
  {
   "cell_type": "code",
   "execution_count": 22,
   "metadata": {
    "ExecuteTime": {
     "end_time": "2020-03-24T06:35:59.877249Z",
     "start_time": "2020-03-24T06:35:59.843680Z"
    }
   },
   "outputs": [],
   "source": [
    "dates, daily_infections_france = preprocess_daily_new(df_confirmed, ['France'])\n",
    "_, daily_deaths_france = preprocess_daily_new(df_deaths, ['France'])\n",
    "_, daily_recovered_france = preprocess_daily_new(df_recovered, ['France'])"
   ]
  },
  {
   "cell_type": "code",
   "execution_count": 23,
   "metadata": {
    "ExecuteTime": {
     "end_time": "2020-03-24T06:35:59.915446Z",
     "start_time": "2020-03-24T06:35:59.881912Z"
    }
   },
   "outputs": [
    {
     "data": {
      "text/html": [
       "<div>\n",
       "<style scoped>\n",
       "    .dataframe tbody tr th:only-of-type {\n",
       "        vertical-align: middle;\n",
       "    }\n",
       "\n",
       "    .dataframe tbody tr th {\n",
       "        vertical-align: top;\n",
       "    }\n",
       "\n",
       "    .dataframe thead th {\n",
       "        text-align: right;\n",
       "    }\n",
       "</style>\n",
       "<table border=\"1\" class=\"dataframe\">\n",
       "  <thead>\n",
       "    <tr style=\"text-align: right;\">\n",
       "      <th></th>\n",
       "      <th>1/23</th>\n",
       "      <th>1/24</th>\n",
       "      <th>1/25</th>\n",
       "      <th>1/26</th>\n",
       "      <th>1/27</th>\n",
       "      <th>1/28</th>\n",
       "      <th>1/29</th>\n",
       "      <th>1/30</th>\n",
       "      <th>1/31</th>\n",
       "      <th>2/1</th>\n",
       "      <th>...</th>\n",
       "      <th>3/14</th>\n",
       "      <th>3/15</th>\n",
       "      <th>3/16</th>\n",
       "      <th>3/17</th>\n",
       "      <th>3/18</th>\n",
       "      <th>3/19</th>\n",
       "      <th>3/20</th>\n",
       "      <th>3/21</th>\n",
       "      <th>3/22</th>\n",
       "      <th>3/23</th>\n",
       "    </tr>\n",
       "  </thead>\n",
       "  <tbody>\n",
       "    <tr>\n",
       "      <th>Infections</th>\n",
       "      <td>0.0</td>\n",
       "      <td>2.0</td>\n",
       "      <td>1.0</td>\n",
       "      <td>0.0</td>\n",
       "      <td>0.0</td>\n",
       "      <td>1.0</td>\n",
       "      <td>1.0</td>\n",
       "      <td>0.0</td>\n",
       "      <td>0.0</td>\n",
       "      <td>1.0</td>\n",
       "      <td>...</td>\n",
       "      <td>809.0</td>\n",
       "      <td>36.0</td>\n",
       "      <td>2145.0</td>\n",
       "      <td>1031.0</td>\n",
       "      <td>1406.0</td>\n",
       "      <td>1842.0</td>\n",
       "      <td>1779.0</td>\n",
       "      <td>1705.0</td>\n",
       "      <td>1745.0</td>\n",
       "      <td>-132.0</td>\n",
       "    </tr>\n",
       "    <tr>\n",
       "      <th>Deaths</th>\n",
       "      <td>0.0</td>\n",
       "      <td>0.0</td>\n",
       "      <td>0.0</td>\n",
       "      <td>0.0</td>\n",
       "      <td>0.0</td>\n",
       "      <td>0.0</td>\n",
       "      <td>0.0</td>\n",
       "      <td>0.0</td>\n",
       "      <td>0.0</td>\n",
       "      <td>0.0</td>\n",
       "      <td>...</td>\n",
       "      <td>12.0</td>\n",
       "      <td>0.0</td>\n",
       "      <td>57.0</td>\n",
       "      <td>0.0</td>\n",
       "      <td>0.0</td>\n",
       "      <td>95.0</td>\n",
       "      <td>207.0</td>\n",
       "      <td>112.0</td>\n",
       "      <td>112.0</td>\n",
       "      <td>0.0</td>\n",
       "    </tr>\n",
       "    <tr>\n",
       "      <th>Recovered</th>\n",
       "      <td>0.0</td>\n",
       "      <td>0.0</td>\n",
       "      <td>0.0</td>\n",
       "      <td>0.0</td>\n",
       "      <td>0.0</td>\n",
       "      <td>0.0</td>\n",
       "      <td>0.0</td>\n",
       "      <td>0.0</td>\n",
       "      <td>0.0</td>\n",
       "      <td>0.0</td>\n",
       "      <td>...</td>\n",
       "      <td>0.0</td>\n",
       "      <td>0.0</td>\n",
       "      <td>0.0</td>\n",
       "      <td>0.0</td>\n",
       "      <td>0.0</td>\n",
       "      <td>0.0</td>\n",
       "      <td>0.0</td>\n",
       "      <td>0.0</td>\n",
       "      <td>2194.0</td>\n",
       "      <td>-6.0</td>\n",
       "    </tr>\n",
       "  </tbody>\n",
       "</table>\n",
       "<p>3 rows × 61 columns</p>\n",
       "</div>"
      ],
      "text/plain": [
       "            1/23  1/24  1/25  1/26  1/27  1/28  1/29  1/30  1/31  2/1  ...  \\\n",
       "Infections   0.0   2.0   1.0   0.0   0.0   1.0   1.0   0.0   0.0  1.0  ...   \n",
       "Deaths       0.0   0.0   0.0   0.0   0.0   0.0   0.0   0.0   0.0  0.0  ...   \n",
       "Recovered    0.0   0.0   0.0   0.0   0.0   0.0   0.0   0.0   0.0  0.0  ...   \n",
       "\n",
       "             3/14  3/15    3/16    3/17    3/18    3/19    3/20    3/21  \\\n",
       "Infections  809.0  36.0  2145.0  1031.0  1406.0  1842.0  1779.0  1705.0   \n",
       "Deaths       12.0   0.0    57.0     0.0     0.0    95.0   207.0   112.0   \n",
       "Recovered     0.0   0.0     0.0     0.0     0.0     0.0     0.0     0.0   \n",
       "\n",
       "              3/22   3/23  \n",
       "Infections  1745.0 -132.0  \n",
       "Deaths       112.0    0.0  \n",
       "Recovered   2194.0   -6.0  \n",
       "\n",
       "[3 rows x 61 columns]"
      ]
     },
     "execution_count": 23,
     "metadata": {},
     "output_type": "execute_result"
    }
   ],
   "source": [
    "df_new_events_france =  pd.DataFrame([daily_infections_france, daily_deaths_france, daily_recovered_france], \n",
    "                                    columns=dates, index=['Infections', 'Deaths', 'Recovered'])\n",
    "df_new_events_france.head()"
   ]
  },
  {
   "cell_type": "code",
   "execution_count": 24,
   "metadata": {
    "ExecuteTime": {
     "end_time": "2020-03-24T06:35:59.925134Z",
     "start_time": "2020-03-24T06:35:59.917467Z"
    }
   },
   "outputs": [
    {
     "data": {
      "text/plain": [
       "Infections    16044.0\n",
       "Deaths          674.0\n",
       "Recovered      2200.0\n",
       "dtype: float64"
      ]
     },
     "execution_count": 24,
     "metadata": {},
     "output_type": "execute_result"
    }
   ],
   "source": [
    "df_new_events_france.T.sum()"
   ]
  },
  {
   "cell_type": "code",
   "execution_count": 25,
   "metadata": {
    "ExecuteTime": {
     "end_time": "2020-03-24T06:36:00.572457Z",
     "start_time": "2020-03-24T06:35:59.927274Z"
    }
   },
   "outputs": [
    {
     "data": {
      "image/png": "[encoded data removed]",
      "text/plain": [
       "<Figure size 720x360 with 1 Axes>"
      ]
     },
     "metadata": {
      "needs_background": "light"
     },
     "output_type": "display_data"
    }
   ],
   "source": [
    "plt.figure(figsize=(10,5))\n",
    "plt.bar(dates, daily_infections_france, label=\"Infections\", \n",
    "        bottom=np.array(daily_deaths_france+np.array(daily_recovered_france)))\n",
    "plt.bar(dates, daily_deaths_france, label=\"Deaths\", bottom=daily_recovered_france)\n",
    "plt.bar(dates, daily_recovered_france, label=\"Recovered\")\n",
    "plt.xticks(range(0, len(dates), 4))\n",
    "plt.legend()\n",
    "plt.title('COVID-19 France 2020 - Daily New Events')\n",
    "plt.show()"
   ]
  },
  {
   "cell_type": "code",
   "execution_count": 26,
   "metadata": {
    "ExecuteTime": {
     "end_time": "2020-03-24T06:36:01.413430Z",
     "start_time": "2020-03-24T06:36:00.574971Z"
    }
   },
   "outputs": [
    {
     "data": {
      "image/png": "[encoded data removed]",
      "text/plain": [
       "<Figure size 720x360 with 1 Axes>"
      ]
     },
     "metadata": {
      "needs_background": "light"
     },
     "output_type": "display_data"
    }
   ],
   "source": [
    "plt.figure(figsize=(10,5))\n",
    "plt.bar(dates, daily_infections_france, label=\"Infections\", \n",
    "        bottom=np.array(daily_deaths_france+np.array(daily_recovered_france)), log=True)\n",
    "plt.bar(dates, daily_deaths_france, label=\"Deaths\", bottom=daily_recovered_france, log=True)\n",
    "plt.bar(dates, daily_recovered_france, label=\"Recovered\", log=True)\n",
    "plt.xticks(range(0, len(dates), 4))\n",
    "plt.legend()\n",
    "plt.title('COVID-19 France 2020 - Daily New Events (Log Scale)')\n",
    "plt.show()"
   ]
  },
  {
   "cell_type": "markdown",
   "metadata": {},
   "source": [
    "# Plotting France vs China"
   ]
  },
  {
   "cell_type": "code",
   "execution_count": 27,
   "metadata": {
    "ExecuteTime": {
     "end_time": "2020-03-24T06:36:01.631551Z",
     "start_time": "2020-03-24T06:36:01.415734Z"
    }
   },
   "outputs": [
    {
     "data": {
      "image/png": "[encoded data removed]",
      "text/plain": [
       "<Figure size 720x360 with 1 Axes>"
      ]
     },
     "metadata": {
      "needs_background": "light"
     },
     "output_type": "display_data"
    }
   ],
   "source": [
    "dates,_ = preprocess_sum(df_confirmed, ['France']) # ensure proper date range\n",
    "\n",
    "plt.figure(figsize=(10,5))\n",
    "plt.plot(dates, ts_infections_france, label=\"France Infections\")\n",
    "plt.plot(dates, ts_deaths_france, label=\"France Deaths\")\n",
    "\n",
    "plt.plot(dates, ts_infections_china, label=\"China Infections\")\n",
    "plt.plot(dates, ts_deaths_china, label=\"China Deaths\")\n",
    "plt.xticks(range(0, len(dates), 4))\n",
    "\n",
    "plt.legend()\n",
    "plt.title('COVID-19 Infections and Deaths in France and China 2020')\n",
    "plt.show()"
   ]
  },
  {
   "cell_type": "markdown",
   "metadata": {},
   "source": [
    "Closer look at death rates"
   ]
  },
  {
   "cell_type": "code",
   "execution_count": 28,
   "metadata": {
    "ExecuteTime": {
     "end_time": "2020-03-24T06:36:01.816114Z",
     "start_time": "2020-03-24T06:36:01.633520Z"
    }
   },
   "outputs": [
    {
     "data": {
      "image/png": "[encoded data removed]",
      "text/plain": [
       "<Figure size 720x360 with 1 Axes>"
      ]
     },
     "metadata": {
      "needs_background": "light"
     },
     "output_type": "display_data"
    }
   ],
   "source": [
    "\n",
    "plt.figure(figsize=(10,5))\n",
    "plt.plot(dates, ts_deaths_france, label=\"France Deaths\")\n",
    "plt.plot(dates, ts_deaths_china, label=\"China Deaths\")\n",
    "plt.xticks(range(0, len(dates), 4))\n",
    "plt.legend()\n",
    "plt.title('COVID-19 Deaths in France and China 2020')\n",
    "plt.show()"
   ]
  },
  {
   "cell_type": "code",
   "execution_count": null,
   "metadata": {},
   "outputs": [],
   "source": []
  }
 ],
 "metadata": {
  "kernelspec": {
   "display_name": "Python 3",
   "language": "python",
   "name": "python3"
  },
  "language_info": {
   "codemirror_mode": {
    "name": "ipython",
    "version": 3
   },
   "file_extension": ".py",
   "mimetype": "text/x-python",
   "name": "python",
   "nbconvert_exporter": "python",
   "pygments_lexer": "ipython3",
   "version": "3.8.1"
  },
  "toc": {
   "base_numbering": 1,
   "nav_menu": {},
   "number_sections": true,
   "sideBar": true,
   "skip_h1_title": false,
   "title_cell": "Table of Contents",
   "title_sidebar": "Contents",
   "toc_cell": false,
   "toc_position": {},
   "toc_section_display": true,
   "toc_window_display": false
  }
 },
 "nbformat": 4,
 "nbformat_minor": 4
}
